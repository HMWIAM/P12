{
 "cells": [
  {
   "cell_type": "markdown",
   "metadata": {
    "id": "lcydgFwCY1t3"
   },
   "source": [
    "# FLIPKART CUSTOMER SENTIMENT PROJECT\n",
    "\n",
    "**Presented by:**\n",
    "\n",
    "1. Pauline Ndungu\n",
    "2. Samuel Mbugua Igecha\n",
    "3. Leonard Rotich\n",
    "4. Samwel Muiru\n",
    "5. Maureen Anduuru\n",
    "6. Henry Mativo"
   ]
  },
  {
   "cell_type": "code",
   "execution_count": 2,
   "metadata": {
    "colab": {
     "base_uri": "https://localhost:8080/"
    },
    "id": "2eEuhYmYZCi5",
    "outputId": "5d88862f-df18-4c0e-a717-df9596584793"
   },
   "outputs": [],
   "source": [
    "# from google.colab import drive\n",
    "# drive.mount('/content/drive')"
   ]
  },
  {
   "cell_type": "markdown",
   "metadata": {
    "id": "Wh1NiTSoY1t-"
   },
   "source": [
    "# 1.0 Business Understanding\n",
    "## 1.1 Overview\n",
    "\n",
    "Flipkart Private Limited is a prominent Indian e-commerce company headquartered in Bengaluru. Established in Singapore as a private limited company, Flipkart initially specialized in online book sales. Over time, the company expanded its offerings to encompass various product categories such as consumer electronics, fashion, home essentials, groceries, and lifestyle products.\n",
    "\n",
    "In the highly competitive Indian e-commerce landscape, Flipkart's key rivals include Amazon India, Alibaba and domestic contender Snapdeal. As of March 2017, Flipkart secured a substantial 39.5% market share in the Indian e-commerce industry. Notably, the company has established a dominant presence in the apparel segment, thanks to its strategic acquisition of Myntra. Furthermore, Flipkart competes head-to-head with Amazon in the sale of electronics and mobile phones, signifying its strength in those areas."
   ]
  },
  {
   "cell_type": "markdown",
   "metadata": {
    "id": "JZCrB4uzY1uA"
   },
   "source": [
    "## 1.2 Problem Statement\n",
    "The stakeholder for this project is Flipkart, a prominent Indian e-commerce company. Flipkart aims to leverage Natural Language Processing (NLP) techniques to enhance its business understanding and improve customer experiences.\n",
    "\n",
    "The project focuses on utilizing NLP algorithms and methodologies to gain valuable insights from customer feedback, product reviews, and other textual data available on the Flipkart platform. By analyzing and extracting information from this data, Flipkart aims to gain a comprehensive understanding of customer preferences, sentiments, and needs.\n",
    "\n",
    "Specifically, the project involves applying NLP techniques to perform sentiment analysis, topic modeling, and customer sentiment classification. By leveraging these methods, Flipkart seeks to identify emerging trends, popular product categories, and areas for improvement within its offerings.\n",
    "\n",
    "By harnessing the power of NLP, Flipkart aims to enhance its decision-making processes, refine its product selection, and provide a more tailored and satisfying shopping experience for its customers. This project aligns with Flipkart's commitment to continuous innovation and delivering value to its customer base through cutting-edge technologies."
   ]
  },
  {
   "cell_type": "markdown",
   "metadata": {
    "id": "uDPtzrBAY1uB"
   },
   "source": [
    "## 1.3 Metrics of Success\n",
    "\n",
    "An accuracy score of atleast 80% as the benchmark"
   ]
  },
  {
   "cell_type": "markdown",
   "metadata": {
    "id": "1ZNe8UVDY1uC"
   },
   "source": [
    "## 1.4 Main Objective\n",
    "\n",
    "Develop an NLP Application that will allow users to input new product reviews and deploy the sentiment analysis model in a production environment to classify the sentiment of reviews in real time.\n",
    "\n",
    "### Specific Objective\n",
    "\n",
    "1.  ***Sentiment Analysis*** - Perform sentiment analysis on customer reviews, ratings, and feedback to accurately identify positive, negative, and neutral sentiments, allowing for actionable insights and targeted improvements.\n",
    "\n",
    "2. Improve the accuracy and relevance of search results and product descriptions by leveraging NLP techniques such as natural language understanding and information extraction.\n",
    "\n"
   ]
  },
  {
   "cell_type": "markdown",
   "metadata": {
    "id": "hJbzgPOKY1uD"
   },
   "source": [
    "# 2.0 Data Understanding\n",
    "\n",
    "The Dataset contains 189,874 rows and 5 columns. The column names include;\n",
    "\n",
    "1. `ProductName` - Name of products\n",
    "2. `Price` - the prices of the products(In Indian Rupees)\n",
    "3. `Rate` - the customers' ratings out of 5\n",
    "4. `Review` - short customer review of the products\n",
    "5. `summary` - more detailed review of the products"
   ]
  },
  {
   "cell_type": "markdown",
   "metadata": {
    "id": "7n-U2YdjY1uD"
   },
   "source": [
    "# 3.0 Data Preparation"
   ]
  },
  {
   "cell_type": "markdown",
   "metadata": {
    "id": "qa7wM_DgY1uE"
   },
   "source": [
    "### Importing Libraries"
   ]
  },
  {
   "cell_type": "code",
   "execution_count": 3,
   "metadata": {
    "colab": {
     "base_uri": "https://localhost:8080/"
    },
    "id": "uf9exBr6d3dr",
    "outputId": "ea556db5-669d-41dc-b6bf-66d5e7405f15"
   },
   "outputs": [
    {
     "name": "stdout",
     "output_type": "stream",
     "text": [
      "Collecting transformers\n",
      "  Downloading transformers-4.30.2-py3-none-any.whl (7.2 MB)\n",
      "\u001b[2K     \u001b[90m━━━━━━━━━━━━━━━━━━━━━━━━━━━━━━━━━━━━━━━━\u001b[0m \u001b[32m7.2/7.2 MB\u001b[0m \u001b[31m281.6 kB/s\u001b[0m eta \u001b[36m0:00:00\u001b[0m00:01\u001b[0m00:01\u001b[0m\n",
      "\u001b[?25hRequirement already satisfied: filelock in /home/henry/anaconda3/envs/learn-env/lib/python3.8/site-packages (from transformers) (3.12.2)\n",
      "Requirement already satisfied: huggingface-hub<1.0,>=0.14.1 in /home/henry/anaconda3/envs/learn-env/lib/python3.8/site-packages (from transformers) (0.15.1)\n",
      "Requirement already satisfied: numpy>=1.17 in /home/henry/anaconda3/envs/learn-env/lib/python3.8/site-packages (from transformers) (1.24.3)\n",
      "Requirement already satisfied: packaging>=20.0 in /home/henry/anaconda3/envs/learn-env/lib/python3.8/site-packages (from transformers) (23.1)\n",
      "Requirement already satisfied: pyyaml>=5.1 in /home/henry/anaconda3/envs/learn-env/lib/python3.8/site-packages (from transformers) (5.3.1)\n",
      "Requirement already satisfied: regex!=2019.12.17 in /home/henry/anaconda3/envs/learn-env/lib/python3.8/site-packages (from transformers) (2020.10.11)\n",
      "Requirement already satisfied: requests in /home/henry/anaconda3/envs/learn-env/lib/python3.8/site-packages (from transformers) (2.24.0)\n",
      "Collecting tokenizers!=0.11.3,<0.14,>=0.11.1 (from transformers)\n",
      "  Downloading tokenizers-0.13.3-cp38-cp38-manylinux_2_17_x86_64.manylinux2014_x86_64.whl (7.8 MB)\n",
      "\u001b[2K     \u001b[90m━━━━━━━━━━━━━━━━━━━━━━━━━━━━━━━━━━━━━━━━\u001b[0m \u001b[32m7.8/7.8 MB\u001b[0m \u001b[31m250.5 kB/s\u001b[0m eta \u001b[36m0:00:00\u001b[0m00:01\u001b[0m00:01\u001b[0m\n",
      "\u001b[?25hCollecting safetensors>=0.3.1 (from transformers)\n",
      "  Downloading safetensors-0.3.1-cp38-cp38-manylinux_2_17_x86_64.manylinux2014_x86_64.whl (1.3 MB)\n",
      "\u001b[2K     \u001b[90m━━━━━━━━━━━━━━━━━━━━━━━━━━━━━━━━━━━━━━━━\u001b[0m \u001b[32m1.3/1.3 MB\u001b[0m \u001b[31m196.8 kB/s\u001b[0m eta \u001b[36m0:00:00\u001b[0m00:01\u001b[0m00:01\u001b[0m\n",
      "\u001b[?25hRequirement already satisfied: tqdm>=4.27 in /home/henry/anaconda3/envs/learn-env/lib/python3.8/site-packages (from transformers) (4.50.2)\n",
      "Requirement already satisfied: fsspec in /home/henry/anaconda3/envs/learn-env/lib/python3.8/site-packages (from huggingface-hub<1.0,>=0.14.1->transformers) (2023.6.0)\n",
      "Requirement already satisfied: typing-extensions>=3.7.4.3 in /home/henry/anaconda3/envs/learn-env/lib/python3.8/site-packages (from huggingface-hub<1.0,>=0.14.1->transformers) (4.6.3)\n",
      "Requirement already satisfied: chardet<4,>=3.0.2 in /home/henry/anaconda3/envs/learn-env/lib/python3.8/site-packages (from requests->transformers) (3.0.4)\n",
      "Requirement already satisfied: idna<3,>=2.5 in /home/henry/anaconda3/envs/learn-env/lib/python3.8/site-packages (from requests->transformers) (2.10)\n",
      "Requirement already satisfied: urllib3!=1.25.0,!=1.25.1,<1.26,>=1.21.1 in /home/henry/anaconda3/envs/learn-env/lib/python3.8/site-packages (from requests->transformers) (1.25.10)\n",
      "Requirement already satisfied: certifi>=2017.4.17 in /home/henry/anaconda3/envs/learn-env/lib/python3.8/site-packages (from requests->transformers) (2022.12.7)\n",
      "Installing collected packages: tokenizers, safetensors, transformers\n",
      "Successfully installed safetensors-0.3.1 tokenizers-0.13.3 transformers-4.30.2\n"
     ]
    }
   ],
   "source": [
    "!pip install transformers"
   ]
  },
  {
   "cell_type": "code",
   "execution_count": 4,
   "metadata": {
    "colab": {
     "base_uri": "https://localhost:8080/"
    },
    "id": "pClAklJRY1uF",
    "outputId": "ac63595e-46a5-47a1-89ad-94cb989e7d87"
   },
   "outputs": [
    {
     "name": "stderr",
     "output_type": "stream",
     "text": [
      "[nltk_data] Downloading package punkt to /home/henry/nltk_data...\n",
      "[nltk_data]   Package punkt is already up-to-date!\n",
      "[nltk_data] Downloading package stopwords to /home/henry/nltk_data...\n",
      "[nltk_data]   Package stopwords is already up-to-date!\n",
      "[nltk_data] Downloading package wordnet to /home/henry/nltk_data...\n",
      "[nltk_data]   Package wordnet is already up-to-date!\n",
      "[nltk_data] Downloading package vader_lexicon to\n",
      "[nltk_data]     /home/henry/nltk_data...\n",
      "[nltk_data]   Package vader_lexicon is already up-to-date!\n"
     ]
    }
   ],
   "source": [
    "import pandas as pd\n",
    "import numpy as np\n",
    "import matplotlib.pyplot as plt\n",
    "%matplotlib inline\n",
    "import seaborn as sns\n",
    "import re\n",
    "import string\n",
    "import pickle\n",
    "\n",
    "# import important libraries\n",
    "import nltk\n",
    "nltk.download('punkt')\n",
    "nltk.download('stopwords')\n",
    "nltk.download('wordnet')\n",
    "nltk.download('vader_lexicon')\n",
    "from nltk.corpus import stopwords\n",
    "from nltk.tokenize import word_tokenize, sent_tokenize\n",
    "from nltk.stem import PorterStemmer, WordNetLemmatizer\n",
    "# from wordcloud import WordCloud, STOPWORDS\n",
    "from nltk.sentiment import SentimentIntensityAnalyzer\n",
    "\n",
    "\n",
    "from sklearn.feature_extraction.text import TfidfVectorizer\n",
    "from sklearn.model_selection import train_test_split\n",
    "from sklearn.ensemble import RandomForestClassifier\n",
    "from sklearn.naive_bayes import MultinomialNB\n",
    "from sklearn.metrics import accuracy_score, f1_score,precision_score, recall_score\n",
    "from sklearn.metrics import confusion_matrix, classification_report, ConfusionMatrixDisplay\n",
    "from imblearn.over_sampling import SMOTE\n",
    "\n",
    "\n",
    "# Warning libraries\n",
    "import warnings\n",
    "warnings.simplefilter(\"ignore\")\n",
    "warnings.filterwarnings('ignore')"
   ]
  },
  {
   "cell_type": "markdown",
   "metadata": {
    "id": "-YUL4bz4Y1uH"
   },
   "source": [
    "### Loading the data"
   ]
  },
  {
   "cell_type": "code",
   "execution_count": 8,
   "metadata": {
    "colab": {
     "base_uri": "https://localhost:8080/",
     "height": 206
    },
    "id": "k8siibfMY1uI",
    "outputId": "950160de-d91f-4d20-97bb-e24593545b03"
   },
   "outputs": [
    {
     "data": {
      "text/html": [
       "<div>\n",
       "<style scoped>\n",
       "    .dataframe tbody tr th:only-of-type {\n",
       "        vertical-align: middle;\n",
       "    }\n",
       "\n",
       "    .dataframe tbody tr th {\n",
       "        vertical-align: top;\n",
       "    }\n",
       "\n",
       "    .dataframe thead th {\n",
       "        text-align: right;\n",
       "    }\n",
       "</style>\n",
       "<table border=\"1\" class=\"dataframe\">\n",
       "  <thead>\n",
       "    <tr style=\"text-align: right;\">\n",
       "      <th></th>\n",
       "      <th>ProductName</th>\n",
       "      <th>Price</th>\n",
       "      <th>Rate</th>\n",
       "      <th>Review</th>\n",
       "      <th>Summary</th>\n",
       "    </tr>\n",
       "  </thead>\n",
       "  <tbody>\n",
       "    <tr>\n",
       "      <th>0</th>\n",
       "      <td>Candes 12 L Room/Personal Air Cooler?ÿ?ÿ(White...</td>\n",
       "      <td>??3,999</td>\n",
       "      <td>5</td>\n",
       "      <td>Super!</td>\n",
       "      <td>Great cooler.. excellent air flow and for this...</td>\n",
       "    </tr>\n",
       "    <tr>\n",
       "      <th>1</th>\n",
       "      <td>Candes 12 L Room/Personal Air Cooler?ÿ?ÿ(White...</td>\n",
       "      <td>??3,999</td>\n",
       "      <td>5</td>\n",
       "      <td>Awesome</td>\n",
       "      <td>Best budget 2 fit cooler. Nice cooling</td>\n",
       "    </tr>\n",
       "    <tr>\n",
       "      <th>2</th>\n",
       "      <td>Candes 12 L Room/Personal Air Cooler?ÿ?ÿ(White...</td>\n",
       "      <td>??3,999</td>\n",
       "      <td>3</td>\n",
       "      <td>Fair</td>\n",
       "      <td>The quality is good but the power of air is de...</td>\n",
       "    </tr>\n",
       "    <tr>\n",
       "      <th>3</th>\n",
       "      <td>Candes 12 L Room/Personal Air Cooler?ÿ?ÿ(White...</td>\n",
       "      <td>??3,999</td>\n",
       "      <td>1</td>\n",
       "      <td>Useless product</td>\n",
       "      <td>Very bad product it's a only a fan</td>\n",
       "    </tr>\n",
       "    <tr>\n",
       "      <th>4</th>\n",
       "      <td>Candes 12 L Room/Personal Air Cooler?ÿ?ÿ(White...</td>\n",
       "      <td>??3,999</td>\n",
       "      <td>3</td>\n",
       "      <td>Fair</td>\n",
       "      <td>Ok ok product</td>\n",
       "    </tr>\n",
       "  </tbody>\n",
       "</table>\n",
       "</div>"
      ],
      "text/plain": [
       "                                         ProductName     Price Rate  \\\n",
       "0  Candes 12 L Room/Personal Air Cooler?ÿ?ÿ(White...  ??3,999    5   \n",
       "1  Candes 12 L Room/Personal Air Cooler?ÿ?ÿ(White...  ??3,999    5   \n",
       "2  Candes 12 L Room/Personal Air Cooler?ÿ?ÿ(White...  ??3,999    3   \n",
       "3  Candes 12 L Room/Personal Air Cooler?ÿ?ÿ(White...  ??3,999    1   \n",
       "4  Candes 12 L Room/Personal Air Cooler?ÿ?ÿ(White...  ??3,999    3   \n",
       "\n",
       "            Review                                            Summary  \n",
       "0           Super!  Great cooler.. excellent air flow and for this...  \n",
       "1          Awesome             Best budget 2 fit cooler. Nice cooling  \n",
       "2             Fair  The quality is good but the power of air is de...  \n",
       "3  Useless product                 Very bad product it's a only a fan  \n",
       "4             Fair                                      Ok ok product  "
      ]
     },
     "execution_count": 8,
     "metadata": {},
     "output_type": "execute_result"
    }
   ],
   "source": [
    "df = pd.read_csv('flipkart_product.csv', encoding='latin-1')\n",
    "df.head()"
   ]
  },
  {
   "cell_type": "markdown",
   "metadata": {
    "id": "AFiVIqSWY1uN"
   },
   "source": [
    "### Data Exploration\n",
    "\n",
    "Before any cleaning and analysis takes place, we will first explore our dataset."
   ]
  },
  {
   "cell_type": "code",
   "execution_count": 9,
   "metadata": {
    "colab": {
     "base_uri": "https://localhost:8080/"
    },
    "id": "D_hkeMppY1uO",
    "outputId": "fb9ad587-8817-4a44-891a-1af94b0d21cc"
   },
   "outputs": [
    {
     "name": "stdout",
     "output_type": "stream",
     "text": [
      "<class 'pandas.core.frame.DataFrame'>\n",
      "RangeIndex: 189874 entries, 0 to 189873\n",
      "Data columns (total 5 columns):\n",
      " #   Column       Non-Null Count   Dtype \n",
      "---  ------       --------------   ----- \n",
      " 0   ProductName  189874 non-null  object\n",
      " 1   Price        189873 non-null  object\n",
      " 2   Rate         189873 non-null  object\n",
      " 3   Review       189870 non-null  object\n",
      " 4   Summary      189860 non-null  object\n",
      "dtypes: object(5)\n",
      "memory usage: 7.2+ MB\n"
     ]
    }
   ],
   "source": [
    "#Getting data information\n",
    "df.info()"
   ]
  },
  {
   "cell_type": "code",
   "execution_count": 10,
   "metadata": {
    "colab": {
     "base_uri": "https://localhost:8080/"
    },
    "id": "m2WHbP6FY1uP",
    "outputId": "46f4c737-67c9-4448-abe1-4c1acfe77a79"
   },
   "outputs": [
    {
     "data": {
      "text/plain": [
       "Index(['ProductName', 'Price', 'Rate', 'Review', 'Summary'], dtype='object')"
      ]
     },
     "execution_count": 10,
     "metadata": {},
     "output_type": "execute_result"
    }
   ],
   "source": [
    "df.columns"
   ]
  },
  {
   "cell_type": "code",
   "execution_count": 11,
   "metadata": {
    "colab": {
     "base_uri": "https://localhost:8080/"
    },
    "id": "c7IEOfY3Y1uQ",
    "outputId": "67966764-0148-4583-9580-f4ffb2a01e5f"
   },
   "outputs": [
    {
     "data": {
      "text/plain": [
       "ProductName    object\n",
       "Price          object\n",
       "Rate           object\n",
       "Review         object\n",
       "Summary        object\n",
       "dtype: object"
      ]
     },
     "execution_count": 11,
     "metadata": {},
     "output_type": "execute_result"
    }
   ],
   "source": [
    "df.dtypes"
   ]
  },
  {
   "cell_type": "code",
   "execution_count": 12,
   "metadata": {
    "colab": {
     "base_uri": "https://localhost:8080/"
    },
    "id": "KMj8eWzJY1uQ",
    "outputId": "456c267f-4bb3-4af3-fb90-3589aeb85185"
   },
   "outputs": [
    {
     "name": "stdout",
     "output_type": "stream",
     "text": [
      "Number of rows: 189874\n",
      "Number of columns: 5\n"
     ]
    }
   ],
   "source": [
    "# Checking the shape of dataset\n",
    "print('Number of rows:',df.shape[0])\n",
    "print('Number of columns:',df.shape[1])"
   ]
  },
  {
   "cell_type": "code",
   "execution_count": 13,
   "metadata": {
    "colab": {
     "base_uri": "https://localhost:8080/"
    },
    "id": "_2xZdcrBY1uR",
    "outputId": "293a67eb-6cb8-48fe-e664-5c0f6bc1b31b"
   },
   "outputs": [
    {
     "name": "stdout",
     "output_type": "stream",
     "text": [
      "Missing values:\n",
      " ProductName     0\n",
      "Price           1\n",
      "Rate            1\n",
      "Review          4\n",
      "Summary        14\n",
      "dtype: int64\n",
      "------------------------------------------\n",
      "\n",
      "Percentage of Missing values:\n",
      " ProductName    0.000000\n",
      "Price          0.000527\n",
      "Rate           0.000527\n",
      "Review         0.002107\n",
      "Summary        0.007373\n",
      "dtype: float64\n",
      "------------------------------------------\n",
      "\n",
      "No. of duplicated values: 24861\n",
      "------------------------------------------\n",
      "\n",
      "duplicated values:\n",
      "                                               ProductName     Price Rate  \\\n",
      "150     MAHARAJA WHITELINE 65 L Desert Air Cooler?ÿ?ÿ(...  ??7,999    4   \n",
      "154     MAHARAJA WHITELINE 65 L Desert Air Cooler?ÿ?ÿ(...  ??7,999    5   \n",
      "248     MAHARAJA WHITELINE 65 L Desert Air Cooler?ÿ?ÿ(...  ??7,999    5   \n",
      "288     MAHARAJA WHITELINE 65 L Desert Air Cooler?ÿ?ÿ(...  ??7,999    4   \n",
      "338     MAHARAJA WHITELINE 65 L Desert Air Cooler?ÿ?ÿ(...  ??7,999    5   \n",
      "...                                                   ...       ...  ...   \n",
      "189864  NIVEA Soft Light Moisturizer for Face, Hand & ...    â¹142    4   \n",
      "189868  NIVEA Soft Light Moisturizer for Face, Hand & ...    â¹142    5   \n",
      "189870  NIVEA Soft Light Moisturizer for Face, Hand & ...    â¹142    5   \n",
      "189871  NIVEA Soft Light Moisturizer for Face, Hand & ...    â¹142    5   \n",
      "189872  NIVEA Soft Light Moisturizer for Face, Hand & ...    â¹142    4   \n",
      "\n",
      "                       Review          Summary  \n",
      "150               Really Nice     Good product  \n",
      "154        Highly recommended          Awesome  \n",
      "248     Mind-blowing purchase  Awesome product  \n",
      "288                 Wonderful             good  \n",
      "338                 Fabulous!             Good  \n",
      "...                       ...              ...  \n",
      "189864            Pretty good        Good ð  \n",
      "189868               Terrific             Good  \n",
      "189870               Terrific             Good  \n",
      "189871              Just wow!            Super  \n",
      "189872        Worth the money             Good  \n",
      "\n",
      "[24861 rows x 5 columns]\n",
      "------------------------------------------\n",
      "\n",
      "Ratings Value counts:\n",
      " 5                                                              108694\n",
      "4                                                               39653\n",
      "1                                                               19607\n",
      "3                                                               15681\n",
      "2                                                                6234\n",
      "Nova Plus Amaze NI 10 1100 W Dry Iron?ÿ?ÿ(Grey & Turquoise)         1\n",
      "s                                                                   1\n",
      "Pigeon Favourite Electric Kettle?ÿ?ÿ(1.5 L, Silver, Black)          1\n",
      "Bajaj DX 2 L/W Dry Iron                                             1\n",
      "Name: Rate, dtype: int64\n",
      "------------------------------------------\n",
      "\n"
     ]
    }
   ],
   "source": [
    "# function to identify missing and duplicate values\n",
    "def clean_data(df):\n",
    "    print(\"Missing values:\\n\", df.isnull().sum())\n",
    "    print(\"------------------------------------------\\n\")\n",
    "    print(\"Percentage of Missing values:\\n\", df.isnull().sum()/len(df)*100)\n",
    "    print(\"------------------------------------------\\n\")\n",
    "    print(\"No. of duplicated values:\", df.duplicated().sum())\n",
    "    print(\"------------------------------------------\\n\")\n",
    "    print(\"duplicated values:\\n\",  df[df.duplicated()])\n",
    "    print(\"------------------------------------------\\n\")\n",
    "    print(\"Ratings Value counts:\\n\",  df.Rate.value_counts())\n",
    "    print(\"------------------------------------------\\n\")\n",
    "\n",
    "\n",
    "clean_data(df)\n"
   ]
  },
  {
   "cell_type": "markdown",
   "metadata": {
    "id": "RCqXXhX5Y1uS"
   },
   "source": [
    "### 1.2 Data Cleaning\n",
    "\n",
    "Our dataset is messy, so we shall clean it by dropping Null values and duplicates. We shall also deal with the inconsistencies like removing symbols, punctuations, strings from our numeric data(Price, Rate columns) then will change the datatypes of Price and Rate columns from string to numeric\n",
    "\n",
    "To ensure the development of a robust and accurate model, several data cleaning techniques will be applied to the dataset. The following techniques will be employed:\n",
    "\n",
    "1. `Completeness`: This technique involves addressing missing values within the dataset. Steps will be taken to identify and handle missing data appropriately, either through imputation or removal, to ensure that the dataset is complete.\n",
    "\n",
    "2. `Uniformity`: Uniformity is crucial during the data cleaning process to ensure consistency and accurate analysis. Inconsistent or non-uniform data can introduce errors and bias into the modeling process, leading to unreliable results. Robust techniques will be employed to detect and handle non-uniformity effectively, ensuring that the data is standardized and aligned.\n",
    "\n",
    "3. `Consistency`: The consistency of the data will be examined to identify any discrepancies or irregularities. Inconsistencies in variables, such as conflicting formats or conflicting information within the dataset, will be addressed and resolved to maintain data integrity.\n",
    "\n",
    "4. `Validity`: Validity refers to the accuracy and relevance of the data. Data validation techniques will be applied to verify that the values within each variable align with expected ranges or predefined criteria. Any invalid or erroneous data points will be rectified or removed from the dataset.\n",
    "\n",
    "\n",
    "By applying these data cleaning techniques, the dataset will be refined and prepared, ensuring the reliability and accuracy of the data before proceeding with the subsequent stages of analysis and modeling."
   ]
  },
  {
   "cell_type": "markdown",
   "metadata": {
    "id": "nsaqXXE9Y1uT"
   },
   "source": [
    "### 1.2.1 Completeness\n",
    "\n",
    "To achieve completeness in our data, I will be checking for missing values in the data."
   ]
  },
  {
   "cell_type": "code",
   "execution_count": 14,
   "metadata": {
    "colab": {
     "base_uri": "https://localhost:8080/"
    },
    "id": "HFcCPKkPY1uT",
    "outputId": "9e78f22a-fb0f-4549-f3a2-1787c3f6e9bc"
   },
   "outputs": [
    {
     "data": {
      "text/plain": [
       "ProductName     0\n",
       "Price           1\n",
       "Rate            1\n",
       "Review          4\n",
       "Summary        14\n",
       "dtype: int64"
      ]
     },
     "execution_count": 14,
     "metadata": {},
     "output_type": "execute_result"
    }
   ],
   "source": [
    "df.isna().sum()"
   ]
  },
  {
   "cell_type": "markdown",
   "metadata": {
    "id": "0eKDcVNlY1uU"
   },
   "source": [
    "From the above,  we see that we have missing values in ProductName, Price, Rate, Review and Summary."
   ]
  },
  {
   "cell_type": "markdown",
   "metadata": {
    "id": "5x-vCPehY1uV"
   },
   "source": [
    "We are going to remove the missing values in price, rate,review and summary because the dataset includes various products with different prices, rates and reviews thus replacing them may alter the dataset unintentionally."
   ]
  },
  {
   "cell_type": "code",
   "execution_count": 15,
   "metadata": {
    "id": "-Co8o269Y1uV"
   },
   "outputs": [],
   "source": [
    "# drop null values\n",
    "df = df.dropna()"
   ]
  },
  {
   "cell_type": "code",
   "execution_count": 16,
   "metadata": {
    "colab": {
     "base_uri": "https://localhost:8080/"
    },
    "id": "0-sQN4YnY1uX",
    "outputId": "ed53cbed-ae16-4203-92ab-9f1526a9ad0f"
   },
   "outputs": [
    {
     "data": {
      "text/plain": [
       "ProductName    0\n",
       "Price          0\n",
       "Rate           0\n",
       "Review         0\n",
       "Summary        0\n",
       "dtype: int64"
      ]
     },
     "execution_count": 16,
     "metadata": {},
     "output_type": "execute_result"
    }
   ],
   "source": [
    "df.isna().sum()"
   ]
  },
  {
   "cell_type": "markdown",
   "metadata": {
    "id": "9pa0-0EXY1uZ"
   },
   "source": [
    "We have now removed the null values from our dataset"
   ]
  },
  {
   "cell_type": "markdown",
   "metadata": {
    "id": "cW4_cjL_Y1ua"
   },
   "source": [
    "### 1.2.2 Uniformity\n",
    "\n",
    "For our data to be uniform, I have to verify that every column is correct and convert them to there appropriate data type."
   ]
  },
  {
   "cell_type": "code",
   "execution_count": 17,
   "metadata": {
    "colab": {
     "base_uri": "https://localhost:8080/",
     "height": 206
    },
    "id": "80N9XxEoY1ua",
    "outputId": "0222eb22-99d4-4b12-c389-55055337c3c5"
   },
   "outputs": [
    {
     "data": {
      "text/html": [
       "<div>\n",
       "<style scoped>\n",
       "    .dataframe tbody tr th:only-of-type {\n",
       "        vertical-align: middle;\n",
       "    }\n",
       "\n",
       "    .dataframe tbody tr th {\n",
       "        vertical-align: top;\n",
       "    }\n",
       "\n",
       "    .dataframe thead th {\n",
       "        text-align: right;\n",
       "    }\n",
       "</style>\n",
       "<table border=\"1\" class=\"dataframe\">\n",
       "  <thead>\n",
       "    <tr style=\"text-align: right;\">\n",
       "      <th></th>\n",
       "      <th>ProductName</th>\n",
       "      <th>Price</th>\n",
       "      <th>Rate</th>\n",
       "      <th>Review</th>\n",
       "      <th>Summary</th>\n",
       "    </tr>\n",
       "  </thead>\n",
       "  <tbody>\n",
       "    <tr>\n",
       "      <th>0</th>\n",
       "      <td>Candes 12 L Room/Personal Air Cooler?ÿ?ÿ(White...</td>\n",
       "      <td>??3,999</td>\n",
       "      <td>5</td>\n",
       "      <td>Super!</td>\n",
       "      <td>Great cooler.. excellent air flow and for this...</td>\n",
       "    </tr>\n",
       "    <tr>\n",
       "      <th>1</th>\n",
       "      <td>Candes 12 L Room/Personal Air Cooler?ÿ?ÿ(White...</td>\n",
       "      <td>??3,999</td>\n",
       "      <td>5</td>\n",
       "      <td>Awesome</td>\n",
       "      <td>Best budget 2 fit cooler. Nice cooling</td>\n",
       "    </tr>\n",
       "    <tr>\n",
       "      <th>2</th>\n",
       "      <td>Candes 12 L Room/Personal Air Cooler?ÿ?ÿ(White...</td>\n",
       "      <td>??3,999</td>\n",
       "      <td>3</td>\n",
       "      <td>Fair</td>\n",
       "      <td>The quality is good but the power of air is de...</td>\n",
       "    </tr>\n",
       "    <tr>\n",
       "      <th>3</th>\n",
       "      <td>Candes 12 L Room/Personal Air Cooler?ÿ?ÿ(White...</td>\n",
       "      <td>??3,999</td>\n",
       "      <td>1</td>\n",
       "      <td>Useless product</td>\n",
       "      <td>Very bad product it's a only a fan</td>\n",
       "    </tr>\n",
       "    <tr>\n",
       "      <th>4</th>\n",
       "      <td>Candes 12 L Room/Personal Air Cooler?ÿ?ÿ(White...</td>\n",
       "      <td>??3,999</td>\n",
       "      <td>3</td>\n",
       "      <td>Fair</td>\n",
       "      <td>Ok ok product</td>\n",
       "    </tr>\n",
       "  </tbody>\n",
       "</table>\n",
       "</div>"
      ],
      "text/plain": [
       "                                         ProductName     Price Rate  \\\n",
       "0  Candes 12 L Room/Personal Air Cooler?ÿ?ÿ(White...  ??3,999    5   \n",
       "1  Candes 12 L Room/Personal Air Cooler?ÿ?ÿ(White...  ??3,999    5   \n",
       "2  Candes 12 L Room/Personal Air Cooler?ÿ?ÿ(White...  ??3,999    3   \n",
       "3  Candes 12 L Room/Personal Air Cooler?ÿ?ÿ(White...  ??3,999    1   \n",
       "4  Candes 12 L Room/Personal Air Cooler?ÿ?ÿ(White...  ??3,999    3   \n",
       "\n",
       "            Review                                            Summary  \n",
       "0           Super!  Great cooler.. excellent air flow and for this...  \n",
       "1          Awesome             Best budget 2 fit cooler. Nice cooling  \n",
       "2             Fair  The quality is good but the power of air is de...  \n",
       "3  Useless product                 Very bad product it's a only a fan  \n",
       "4             Fair                                      Ok ok product  "
      ]
     },
     "execution_count": 17,
     "metadata": {},
     "output_type": "execute_result"
    }
   ],
   "source": [
    "df.head()"
   ]
  },
  {
   "cell_type": "markdown",
   "metadata": {
    "id": "ZodWFKQdY1ub"
   },
   "source": [
    "Now will remove punctuations, symbols, characters from price, productname and summary column using the regular expression(\"re\") module. Then change datatypes of our columns as well"
   ]
  },
  {
   "cell_type": "code",
   "execution_count": 18,
   "metadata": {
    "id": "RE-R7GArY1uc"
   },
   "outputs": [],
   "source": [
    "# function to remove punctuation\n",
    "def rmv_punc(text):\n",
    "    punct = string.punctuation\n",
    "    return text.translate(str.maketrans('', '', punct))"
   ]
  },
  {
   "cell_type": "code",
   "execution_count": 19,
   "metadata": {
    "id": "QsDFvwYUY1uc"
   },
   "outputs": [],
   "source": [
    "# remove punctuations from price & summary  column\n",
    "df['Summary'] = df['Summary'].apply(lambda x: rmv_punc(x))\n",
    "df['Price'] = df['Price'].apply(lambda x: rmv_punc(x))\n",
    "df['Review'] = df['Review'].apply(lambda x: rmv_punc(x))"
   ]
  },
  {
   "cell_type": "code",
   "execution_count": 20,
   "metadata": {
    "id": "QMsf5MlDY1ud"
   },
   "outputs": [],
   "source": [
    "# remove characters\n",
    "def rmv_char(text):\n",
    "    text = re.sub('[^a-zA-Z0-9(/)]',' ', text)\n",
    "    text = re.sub('\\s+',' ', text) #remove whitespace\n",
    "    return text"
   ]
  },
  {
   "cell_type": "code",
   "execution_count": 21,
   "metadata": {
    "id": "zO6F8JbNY1ud"
   },
   "outputs": [],
   "source": [
    "# remove characters from product & Price columns\n",
    "df['Price'] = df['Price'].apply(lambda x: rmv_char(x).lower())\n",
    "df['ProductName']=df['ProductName'].apply(lambda x:rmv_char(x))\n",
    "df['Summary']=df['Summary'].apply(lambda x:rmv_char(x))"
   ]
  },
  {
   "cell_type": "code",
   "execution_count": 22,
   "metadata": {
    "colab": {
     "base_uri": "https://localhost:8080/"
    },
    "id": "--H6qNNPY1ue",
    "outputId": "7d07c098-de8d-4b68-878c-5412ee2b504d"
   },
   "outputs": [
    {
     "data": {
      "text/plain": [
       "5                                                              108684\n",
       "4                                                               39649\n",
       "1                                                               19607\n",
       "3                                                               15680\n",
       "2                                                                6233\n",
       "Nova Plus Amaze NI 10 1100 W Dry Iron?ÿ?ÿ(Grey & Turquoise)         1\n",
       "s                                                                   1\n",
       "Pigeon Favourite Electric Kettle?ÿ?ÿ(1.5 L, Silver, Black)          1\n",
       "Bajaj DX 2 L/W Dry Iron                                             1\n",
       "Name: Rate, dtype: int64"
      ]
     },
     "execution_count": 22,
     "metadata": {},
     "output_type": "execute_result"
    }
   ],
   "source": [
    "df.Rate.value_counts()"
   ]
  },
  {
   "cell_type": "markdown",
   "metadata": {
    "id": "_QReZtJ0Y1uf"
   },
   "source": [
    "The Rate column contains string dataset where all should be numeric, we will remove the string in this column and convert to numeric datatype."
   ]
  },
  {
   "cell_type": "code",
   "execution_count": 23,
   "metadata": {
    "id": "DEPFowQfY1uf"
   },
   "outputs": [],
   "source": [
    "# Drop the string values in the 'Rate' column\n",
    "df = df[pd.to_numeric(df['Rate'], errors='coerce').notnull()]"
   ]
  },
  {
   "cell_type": "code",
   "execution_count": 24,
   "metadata": {
    "colab": {
     "base_uri": "https://localhost:8080/"
    },
    "id": "gbZWHNleY1ug",
    "outputId": "892e8b94-50d5-4074-9cdf-7a903eb454f1"
   },
   "outputs": [
    {
     "data": {
      "text/plain": [
       "5    108684\n",
       "4     39649\n",
       "1     19607\n",
       "3     15680\n",
       "2      6233\n",
       "Name: Rate, dtype: int64"
      ]
     },
     "execution_count": 24,
     "metadata": {},
     "output_type": "execute_result"
    }
   ],
   "source": [
    "df.Rate.value_counts()"
   ]
  },
  {
   "cell_type": "markdown",
   "metadata": {
    "id": "aj5hzDW1Y1uh"
   },
   "source": [
    "Rows containing string values from the Rate column have been confirmed to be dropped."
   ]
  },
  {
   "cell_type": "code",
   "execution_count": 25,
   "metadata": {
    "colab": {
     "base_uri": "https://localhost:8080/"
    },
    "id": "AIERxTa4Y1uh",
    "outputId": "1732d6ac-7d58-4242-a6ed-cb72f2813e1b"
   },
   "outputs": [
    {
     "data": {
      "text/plain": [
       "ProductName    object\n",
       "Price          object\n",
       "Rate           object\n",
       "Review         object\n",
       "Summary        object\n",
       "dtype: object"
      ]
     },
     "execution_count": 25,
     "metadata": {},
     "output_type": "execute_result"
    }
   ],
   "source": [
    "df.dtypes"
   ]
  },
  {
   "cell_type": "code",
   "execution_count": 26,
   "metadata": {
    "colab": {
     "base_uri": "https://localhost:8080/"
    },
    "id": "PpdB2FjrY1ui",
    "outputId": "f874fc77-323a-40ad-d3cd-66a6f6a72703"
   },
   "outputs": [
    {
     "name": "stdout",
     "output_type": "stream",
     "text": [
      "ProductName     object\n",
      "Price          float64\n",
      "Rate           float64\n",
      "Review          object\n",
      "Summary         object\n",
      "dtype: object\n"
     ]
    }
   ],
   "source": [
    "# Convert datatypes\n",
    "df['Price'] = df['Price'].astype(float)\n",
    "df['Rate'] = df['Rate'].astype(float)\n",
    "print(df.dtypes)"
   ]
  },
  {
   "cell_type": "markdown",
   "metadata": {
    "id": "r8PDgmLAY1us"
   },
   "source": [
    "### 1.2.3 Consistency\n",
    "\n",
    "For the data to be constistent, we need to resolve any inconsistencies by checking for duplicate values in our data."
   ]
  },
  {
   "cell_type": "code",
   "execution_count": 27,
   "metadata": {
    "colab": {
     "base_uri": "https://localhost:8080/"
    },
    "id": "hmHG_oBGY1ut",
    "outputId": "f654f0a6-16b8-4cd4-8af7-74e13d6449e4"
   },
   "outputs": [
    {
     "name": "stdout",
     "output_type": "stream",
     "text": [
      "The data has 26899 duplicates\n"
     ]
    }
   ],
   "source": [
    "# checking for duplicates\n",
    "print(f'The data has {df.duplicated().sum()} duplicates')"
   ]
  },
  {
   "cell_type": "code",
   "execution_count": 28,
   "metadata": {
    "id": "-p9LZibGY1uu"
   },
   "outputs": [],
   "source": [
    "# drop duplicates\n",
    "df = df.drop_duplicates()"
   ]
  },
  {
   "cell_type": "code",
   "execution_count": 29,
   "metadata": {
    "colab": {
     "base_uri": "https://localhost:8080/"
    },
    "id": "Hyh9YC_lY1uu",
    "outputId": "b54a8354-d4b7-4b50-9d97-2f7fdf9755bf"
   },
   "outputs": [
    {
     "name": "stdout",
     "output_type": "stream",
     "text": [
      "The data has 0 duplicates\n"
     ]
    }
   ],
   "source": [
    "# checking for duplicates\n",
    "print(f'The data has {df.duplicated().sum()} duplicates')"
   ]
  },
  {
   "cell_type": "markdown",
   "metadata": {
    "id": "7FfiVhm7Y1uv"
   },
   "source": [
    "Duplicates have been confirmed to be dropped"
   ]
  },
  {
   "cell_type": "code",
   "execution_count": 30,
   "metadata": {
    "colab": {
     "base_uri": "https://localhost:8080/"
    },
    "id": "V5fFV8PjY1uw",
    "outputId": "edcc44b8-635f-4dcc-a749-e349f4d8d85c"
   },
   "outputs": [
    {
     "data": {
      "text/plain": [
       "(162954, 5)"
      ]
     },
     "execution_count": 30,
     "metadata": {},
     "output_type": "execute_result"
    }
   ],
   "source": [
    "df.shape"
   ]
  },
  {
   "cell_type": "markdown",
   "metadata": {
    "id": "TApiQRUcY1uw"
   },
   "source": [
    "There's now 163683 rows remaining in our dataset after dropping a few rows from the dataset"
   ]
  },
  {
   "cell_type": "code",
   "execution_count": 31,
   "metadata": {
    "colab": {
     "base_uri": "https://localhost:8080/"
    },
    "id": "wm7WO83sY1ux",
    "outputId": "4113eebf-7e20-40b9-de55-3bbff4eebc06"
   },
   "outputs": [
    {
     "name": "stdout",
     "output_type": "stream",
     "text": [
      "<class 'pandas.core.frame.DataFrame'>\n",
      "Int64Index: 162954 entries, 0 to 189869\n",
      "Data columns (total 5 columns):\n",
      " #   Column       Non-Null Count   Dtype  \n",
      "---  ------       --------------   -----  \n",
      " 0   ProductName  162954 non-null  object \n",
      " 1   Price        162954 non-null  float64\n",
      " 2   Rate         162954 non-null  float64\n",
      " 3   Review       162954 non-null  object \n",
      " 4   Summary      162954 non-null  object \n",
      "dtypes: float64(2), object(3)\n",
      "memory usage: 7.5+ MB\n"
     ]
    }
   ],
   "source": [
    "df.info()"
   ]
  },
  {
   "cell_type": "markdown",
   "metadata": {
    "id": "jFwxfTrVY1ux"
   },
   "source": [
    "- We can confirm above that the datatypes of the Price and Rate column have changed to numeric. This concludes our datacleaning."
   ]
  },
  {
   "cell_type": "code",
   "execution_count": 32,
   "metadata": {
    "colab": {
     "base_uri": "https://localhost:8080/",
     "height": 206
    },
    "id": "5hhY9mknY1uy",
    "outputId": "67272083-54d3-4637-9d5f-8d60a9ef8a40"
   },
   "outputs": [
    {
     "data": {
      "text/html": [
       "<div>\n",
       "<style scoped>\n",
       "    .dataframe tbody tr th:only-of-type {\n",
       "        vertical-align: middle;\n",
       "    }\n",
       "\n",
       "    .dataframe tbody tr th {\n",
       "        vertical-align: top;\n",
       "    }\n",
       "\n",
       "    .dataframe thead th {\n",
       "        text-align: right;\n",
       "    }\n",
       "</style>\n",
       "<table border=\"1\" class=\"dataframe\">\n",
       "  <thead>\n",
       "    <tr style=\"text-align: right;\">\n",
       "      <th></th>\n",
       "      <th>ProductName</th>\n",
       "      <th>Price</th>\n",
       "      <th>Rate</th>\n",
       "      <th>Review</th>\n",
       "      <th>Summary</th>\n",
       "    </tr>\n",
       "  </thead>\n",
       "  <tbody>\n",
       "    <tr>\n",
       "      <th>0</th>\n",
       "      <td>Candes 12 L Room/Personal Air Cooler (White Bl...</td>\n",
       "      <td>3999.0</td>\n",
       "      <td>5.0</td>\n",
       "      <td>Super</td>\n",
       "      <td>Great cooler excellent air flow and for this p...</td>\n",
       "    </tr>\n",
       "    <tr>\n",
       "      <th>1</th>\n",
       "      <td>Candes 12 L Room/Personal Air Cooler (White Bl...</td>\n",
       "      <td>3999.0</td>\n",
       "      <td>5.0</td>\n",
       "      <td>Awesome</td>\n",
       "      <td>Best budget 2 fit cooler Nice cooling</td>\n",
       "    </tr>\n",
       "    <tr>\n",
       "      <th>2</th>\n",
       "      <td>Candes 12 L Room/Personal Air Cooler (White Bl...</td>\n",
       "      <td>3999.0</td>\n",
       "      <td>3.0</td>\n",
       "      <td>Fair</td>\n",
       "      <td>The quality is good but the power of air is de...</td>\n",
       "    </tr>\n",
       "    <tr>\n",
       "      <th>3</th>\n",
       "      <td>Candes 12 L Room/Personal Air Cooler (White Bl...</td>\n",
       "      <td>3999.0</td>\n",
       "      <td>1.0</td>\n",
       "      <td>Useless product</td>\n",
       "      <td>Very bad product its a only a fan</td>\n",
       "    </tr>\n",
       "    <tr>\n",
       "      <th>4</th>\n",
       "      <td>Candes 12 L Room/Personal Air Cooler (White Bl...</td>\n",
       "      <td>3999.0</td>\n",
       "      <td>3.0</td>\n",
       "      <td>Fair</td>\n",
       "      <td>Ok ok product</td>\n",
       "    </tr>\n",
       "  </tbody>\n",
       "</table>\n",
       "</div>"
      ],
      "text/plain": [
       "                                         ProductName   Price  Rate  \\\n",
       "0  Candes 12 L Room/Personal Air Cooler (White Bl...  3999.0   5.0   \n",
       "1  Candes 12 L Room/Personal Air Cooler (White Bl...  3999.0   5.0   \n",
       "2  Candes 12 L Room/Personal Air Cooler (White Bl...  3999.0   3.0   \n",
       "3  Candes 12 L Room/Personal Air Cooler (White Bl...  3999.0   1.0   \n",
       "4  Candes 12 L Room/Personal Air Cooler (White Bl...  3999.0   3.0   \n",
       "\n",
       "            Review                                            Summary  \n",
       "0            Super  Great cooler excellent air flow and for this p...  \n",
       "1          Awesome              Best budget 2 fit cooler Nice cooling  \n",
       "2             Fair  The quality is good but the power of air is de...  \n",
       "3  Useless product                  Very bad product its a only a fan  \n",
       "4             Fair                                      Ok ok product  "
      ]
     },
     "execution_count": 32,
     "metadata": {},
     "output_type": "execute_result"
    }
   ],
   "source": [
    "# Display cleaned dataset\n",
    "df.head()"
   ]
  },
  {
   "cell_type": "markdown",
   "metadata": {
    "id": "Het7eXIVY1uz"
   },
   "source": [
    "## DATA TRANSFORMATION\n",
    "### Adding new columns\n",
    "\n",
    "To improve our analysis, I will be adding 2 new column from columns that share have similarities or add more analytical value.\n",
    "\n",
    "> **polarity**\n",
    "\n",
    "For further analysis we will add the `Sentiment` column derived from the `Review` to extract the polarity scores from the reviews with the sentiments. A polarity score of 0 indicates neutral sentiment where as above 0 indicates positive sentiment and below 0 indicates negative sentiment.\n",
    "\n",
    "> **Product Sentiment**\n",
    "\n",
    "We then add the `product_sentiment` column that categorizes the sentiment scores into three predefined sentiment categories: 'Negative', 'Neutral', and 'Positive'. This categorization provides a more interpretable representation of the sentiment, allowing for easier analysis and comparison across different products or reviews."
   ]
  },
  {
   "cell_type": "code",
   "execution_count": 33,
   "metadata": {
    "colab": {
     "base_uri": "https://localhost:8080/",
     "height": 206
    },
    "id": "GMinPy4CY1uz",
    "outputId": "9de44081-7755-4f02-eb25-771147955a18"
   },
   "outputs": [
    {
     "data": {
      "text/html": [
       "<div>\n",
       "<style scoped>\n",
       "    .dataframe tbody tr th:only-of-type {\n",
       "        vertical-align: middle;\n",
       "    }\n",
       "\n",
       "    .dataframe tbody tr th {\n",
       "        vertical-align: top;\n",
       "    }\n",
       "\n",
       "    .dataframe thead th {\n",
       "        text-align: right;\n",
       "    }\n",
       "</style>\n",
       "<table border=\"1\" class=\"dataframe\">\n",
       "  <thead>\n",
       "    <tr style=\"text-align: right;\">\n",
       "      <th></th>\n",
       "      <th>ProductName</th>\n",
       "      <th>Price</th>\n",
       "      <th>Rate</th>\n",
       "      <th>Review</th>\n",
       "      <th>Summary</th>\n",
       "      <th>polarity</th>\n",
       "      <th>product_sentiment</th>\n",
       "    </tr>\n",
       "  </thead>\n",
       "  <tbody>\n",
       "    <tr>\n",
       "      <th>0</th>\n",
       "      <td>Candes 12 L Room/Personal Air Cooler (White Bl...</td>\n",
       "      <td>3999.0</td>\n",
       "      <td>5.0</td>\n",
       "      <td>Super</td>\n",
       "      <td>Great cooler excellent air flow and for this p...</td>\n",
       "      <td>0.9576</td>\n",
       "      <td>Positive</td>\n",
       "    </tr>\n",
       "    <tr>\n",
       "      <th>1</th>\n",
       "      <td>Candes 12 L Room/Personal Air Cooler (White Bl...</td>\n",
       "      <td>3999.0</td>\n",
       "      <td>5.0</td>\n",
       "      <td>Awesome</td>\n",
       "      <td>Best budget 2 fit cooler Nice cooling</td>\n",
       "      <td>0.8591</td>\n",
       "      <td>Positive</td>\n",
       "    </tr>\n",
       "    <tr>\n",
       "      <th>2</th>\n",
       "      <td>Candes 12 L Room/Personal Air Cooler (White Bl...</td>\n",
       "      <td>3999.0</td>\n",
       "      <td>3.0</td>\n",
       "      <td>Fair</td>\n",
       "      <td>The quality is good but the power of air is de...</td>\n",
       "      <td>0.2382</td>\n",
       "      <td>Positive</td>\n",
       "    </tr>\n",
       "    <tr>\n",
       "      <th>3</th>\n",
       "      <td>Candes 12 L Room/Personal Air Cooler (White Bl...</td>\n",
       "      <td>3999.0</td>\n",
       "      <td>1.0</td>\n",
       "      <td>Useless product</td>\n",
       "      <td>Very bad product its a only a fan</td>\n",
       "      <td>-0.3597</td>\n",
       "      <td>Negative</td>\n",
       "    </tr>\n",
       "    <tr>\n",
       "      <th>4</th>\n",
       "      <td>Candes 12 L Room/Personal Air Cooler (White Bl...</td>\n",
       "      <td>3999.0</td>\n",
       "      <td>3.0</td>\n",
       "      <td>Fair</td>\n",
       "      <td>Ok ok product</td>\n",
       "      <td>0.5267</td>\n",
       "      <td>Positive</td>\n",
       "    </tr>\n",
       "  </tbody>\n",
       "</table>\n",
       "</div>"
      ],
      "text/plain": [
       "                                         ProductName   Price  Rate  \\\n",
       "0  Candes 12 L Room/Personal Air Cooler (White Bl...  3999.0   5.0   \n",
       "1  Candes 12 L Room/Personal Air Cooler (White Bl...  3999.0   5.0   \n",
       "2  Candes 12 L Room/Personal Air Cooler (White Bl...  3999.0   3.0   \n",
       "3  Candes 12 L Room/Personal Air Cooler (White Bl...  3999.0   1.0   \n",
       "4  Candes 12 L Room/Personal Air Cooler (White Bl...  3999.0   3.0   \n",
       "\n",
       "            Review                                            Summary  \\\n",
       "0            Super  Great cooler excellent air flow and for this p...   \n",
       "1          Awesome              Best budget 2 fit cooler Nice cooling   \n",
       "2             Fair  The quality is good but the power of air is de...   \n",
       "3  Useless product                  Very bad product its a only a fan   \n",
       "4             Fair                                      Ok ok product   \n",
       "\n",
       "   polarity product_sentiment  \n",
       "0    0.9576          Positive  \n",
       "1    0.8591          Positive  \n",
       "2    0.2382          Positive  \n",
       "3   -0.3597          Negative  \n",
       "4    0.5267          Positive  "
      ]
     },
     "execution_count": 33,
     "metadata": {},
     "output_type": "execute_result"
    }
   ],
   "source": [
    "# Initialize the sentiment analyzer\n",
    "sia = SentimentIntensityAnalyzer()\n",
    "\n",
    "# Extract polarity scores from the Review column\n",
    "df['polarity'] = df['Summary'].apply(lambda x: sia.polarity_scores(x)['compound'])\n",
    "\n",
    "# Classify sentiments as positive, negative, or neutral\n",
    "df['product_sentiment'] = pd.cut(df['polarity'], bins=[-1, -0.1, 0.1, 1], labels=['Negative', 'Neutral', 'Positive'])\n",
    "\n",
    "# Check the updated DataFrame\n",
    "df.head()"
   ]
  },
  {
   "cell_type": "markdown",
   "metadata": {
    "id": "Zz5AWNfsY1u0"
   },
   "source": [
    "# Exploratory Data Analysis\n",
    "\n",
    "This section will be the exploratory data analysis question where we will exploring and seeing the relationship the different columns.\n",
    "\n",
    "Given the nature of our dataset, we will be focusing on the following columns:\n",
    "#### Numerical Columns\n",
    "* `Price`\n",
    "* `Rate`\n",
    "* `polarity`\n",
    "#### Categorical Columns\n",
    "* `product_sentiment`"
   ]
  },
  {
   "cell_type": "markdown",
   "metadata": {
    "id": "-gtPA2N2Y1u1"
   },
   "source": [
    "### Univariate Analysis\n",
    "#### Numerical Univariate Analysis"
   ]
  },
  {
   "cell_type": "code",
   "execution_count": 34,
   "metadata": {
    "id": "DdqUMn_NY1u1"
   },
   "outputs": [],
   "source": [
    "def plot_distribution(df, column):\n",
    "\n",
    "    plt.figure(figsize=(16, 8))\n",
    "    value_counts = df[column].value_counts()\n",
    "    grouped_counts = value_counts.groupby(value_counts // 10 * 10).sum()\n",
    "    ax = sns.barplot(x=grouped_counts.index, y=grouped_counts.values)\n",
    "    plt.xlabel(column)\n",
    "    plt.ylabel('Count')\n",
    "    plt.title(f\"Distribution based on Value Counts: {column}\")\n",
    "    ax.set_xticklabels(ax.get_xticklabels(), rotation=90, ha='right')\n",
    "    plt.show()"
   ]
  },
  {
   "cell_type": "code",
   "execution_count": 35,
   "metadata": {
    "colab": {
     "base_uri": "https://localhost:8080/",
     "height": 695
    },
    "id": "6WJ-KYvRY1u3",
    "outputId": "fcb94b33-210e-4426-cb6e-68ddf103a668"
   },
   "outputs": [
    {
     "data": {
      "image/png": "[encoded data removed]",
      "text/plain": [
       "<Figure size 1152x576 with 1 Axes>"
      ]
     },
     "metadata": {
      "needs_background": "light"
     },
     "output_type": "display_data"
    }
   ],
   "source": [
    "plot_distribution(df, 'Price')"
   ]
  },
  {
   "cell_type": "code",
   "execution_count": 36,
   "metadata": {
    "id": "SD6dYnQnY1u5"
   },
   "outputs": [],
   "source": [
    "def plot_distribution2(df, column):\n",
    "    \"\"\"\n",
    "    Plots the distribution of a specified column based on value counts in a DataFrame.\n",
    "\n",
    "    Args:\n",
    "        df (DataFrame): The pandas DataFrame containing the data.\n",
    "        column (str): The column name for which to plot the distribution.\n",
    "\n",
    "    \"\"\"\n",
    "    plt.figure(figsize=(16, 8))\n",
    "    rounded_values = df[column].round(1)\n",
    "    value_counts = rounded_values.value_counts()\n",
    "    sorted_counts = value_counts.sort_index()\n",
    "    ax = sns.barplot(x=sorted_counts.index, y=sorted_counts.values)\n",
    "    plt.xlabel(column)\n",
    "    plt.ylabel('Count')\n",
    "    plt.title(f\"Distribution based on Value Counts: {column}\")\n",
    "    ax.set_xticklabels(ax.get_xticklabels(), rotation=45, ha='right')\n",
    "    plt.ylim(0, sorted_counts.max() + 1)  # Set y-axis limit to include all counts\n",
    "    plt.show()"
   ]
  },
  {
   "cell_type": "code",
   "execution_count": 37,
   "metadata": {
    "colab": {
     "base_uri": "https://localhost:8080/",
     "height": 685
    },
    "id": "htnN1DiMY1u7",
    "outputId": "6c2553a3-4063-467c-bae3-e836101afea3"
   },
   "outputs": [
    {
     "data": {
      "image/png": "[encoded data removed]",
      "text/plain": [
       "<Figure size 1152x576 with 1 Axes>"
      ]
     },
     "metadata": {
      "needs_background": "light"
     },
     "output_type": "display_data"
    }
   ],
   "source": [
    "plot_distribution2(df, 'polarity')"
   ]
  },
  {
   "cell_type": "code",
   "execution_count": 38,
   "metadata": {
    "id": "_UaGVYVWY1u9"
   },
   "outputs": [],
   "source": [
    "def plot_distribution3(df, column):\n",
    "    \"\"\"\n",
    "    Plots the distribution of a specified column based on value counts in a DataFrame.\n",
    "\n",
    "    Args:\n",
    "        df (DataFrame): The pandas DataFrame containing the data.\n",
    "        column (str): The column name for which to plot the distribution.\n",
    "\n",
    "    \"\"\"\n",
    "    plt.figure(figsize=(16, 8))\n",
    "    sns.barplot(x=df[column].value_counts().index, y=df[column].value_counts().values)\n",
    "    plt.xlabel(column)\n",
    "    plt.ylabel('Count')\n",
    "    plt.title(f\"Distribution based on Value Counts: {column}\")\n",
    "    plt.show()"
   ]
  },
  {
   "cell_type": "code",
   "execution_count": 39,
   "metadata": {
    "colab": {
     "base_uri": "https://localhost:8080/",
     "height": 671
    },
    "id": "Cxe7CBjfY1u9",
    "outputId": "4eda3450-2c21-4d9c-9b1c-5f831c38c3b5"
   },
   "outputs": [
    {
     "data": {
      "image/png": "[encoded data removed]",
      "text/plain": [
       "<Figure size 1152x576 with 1 Axes>"
      ]
     },
     "metadata": {
      "needs_background": "light"
     },
     "output_type": "display_data"
    }
   ],
   "source": [
    "plot_distribution3(df, 'Rate')"
   ]
  },
  {
   "cell_type": "markdown",
   "metadata": {
    "id": "YnfDjOaYY1u-"
   },
   "source": [
    "- From the bar plot above it's indicated that there was far more 5 star reviews of products in our dataset indicating higher positive sentiments"
   ]
  },
  {
   "cell_type": "markdown",
   "metadata": {
    "id": "aqHeDoPxY1u_"
   },
   "source": [
    "#### Categorical Univariate Analysis"
   ]
  },
  {
   "cell_type": "code",
   "execution_count": 40,
   "metadata": {
    "colab": {
     "base_uri": "https://localhost:8080/"
    },
    "id": "nTv47elaY1vA",
    "outputId": "a933dc13-6d93-4853-fdcf-c561b8891d15"
   },
   "outputs": [
    {
     "data": {
      "text/plain": [
       "Positive    124668\n",
       "Negative     20546\n",
       "Neutral      17740\n",
       "Name: product_sentiment, dtype: int64"
      ]
     },
     "execution_count": 40,
     "metadata": {},
     "output_type": "execute_result"
    }
   ],
   "source": [
    "# No of reviews per sentiments\n",
    "df.product_sentiment.value_counts()"
   ]
  },
  {
   "cell_type": "code",
   "execution_count": 41,
   "metadata": {
    "colab": {
     "base_uri": "https://localhost:8080/"
    },
    "id": "biGxvNhtY1vA",
    "outputId": "557b6c71-b9cf-473b-8b4b-4214dcd8994e"
   },
   "outputs": [
    {
     "name": "stdout",
     "output_type": "stream",
     "text": [
      "Positive    76.505026\n",
      "Negative    12.608466\n",
      "Neutral     10.886508\n",
      "Name: product_sentiment, dtype: float64\n"
     ]
    }
   ],
   "source": [
    "# Percentage of reviews per sentiment\n",
    "percentage = df['product_sentiment'].value_counts(normalize=True)\n",
    "print(percentage * 100)"
   ]
  },
  {
   "cell_type": "code",
   "execution_count": 42,
   "metadata": {
    "colab": {
     "base_uri": "https://localhost:8080/",
     "height": 450
    },
    "id": "Bx2EpSDXY1vB",
    "outputId": "c12fe695-4c45-4b39-dce9-c85aaa2c47a8"
   },
   "outputs": [
    {
     "data": {
      "image/png": "[encoded data removed]",
      "text/plain": [
       "<Figure size 432x288 with 1 Axes>"
      ]
     },
     "metadata": {
      "needs_background": "light"
     },
     "output_type": "display_data"
    }
   ],
   "source": [
    "# Visualization of target variable/product sentiment\n",
    "ax = sns.countplot(x = \"product_sentiment\", data = df)"
   ]
  },
  {
   "cell_type": "markdown",
   "metadata": {
    "id": "rXzQic7ZY1vD"
   },
   "source": [
    "- Upon closer inspection, it's confirmed there was far more positive sentiment at 69% followed by neutral sentiment at 22% and negative sentiment at 8%"
   ]
  },
  {
   "cell_type": "markdown",
   "metadata": {
    "id": "a7yieD-TY1vD"
   },
   "source": [
    "## Bivariate Analysis"
   ]
  },
  {
   "cell_type": "code",
   "execution_count": 43,
   "metadata": {
    "id": "xbhqcMvwY1vD"
   },
   "outputs": [],
   "source": [
    "def bivariate_analysis_box(df, x_col, y_col):\n",
    "    \"\"\"\n",
    "    Conducts bivariate analysis between two columns in a DataFrame and generates a box plot.\n",
    "\n",
    "    Args:\n",
    "        df (DataFrame): The pandas DataFrame containing the data.\n",
    "        x_col (str): The name of the column to be plotted on the x-axis.\n",
    "        y_col (str): The name of the column to be plotted on the y-axis.\n",
    "\n",
    "    \"\"\"\n",
    "    plt.figure(figsize=(8, 6))\n",
    "    sns.boxplot(data=df, x=x_col, y=y_col)\n",
    "    plt.xlabel(x_col)\n",
    "    plt.ylabel(y_col)\n",
    "    plt.title(f\"Bivariate Analysis: {x_col} vs {y_col} (Box Plot)\")\n",
    "    plt.show()"
   ]
  },
  {
   "cell_type": "code",
   "execution_count": 44,
   "metadata": {
    "id": "DlBi9zDbY1vE"
   },
   "outputs": [],
   "source": [
    "def bivariate_analysis_scatter(df, x_col, y_col):\n",
    "    \"\"\"\n",
    "    Conducts bivariate analysis between two columns in a DataFrame and generates scatter and box plots.\n",
    "\n",
    "    Args:\n",
    "        df (DataFrame): The pandas DataFrame containing the data.\n",
    "        x_col (str): The name of the column to be plotted on the x-axis.\n",
    "        y_col (str): The name of the column to be plotted on the y-axis.\n",
    "\n",
    "    \"\"\"\n",
    "    plt.figure(figsize=(10, 8))\n",
    "\n",
    "    # Scatter plot\n",
    "    # plt.subplot(1, 2, 1)\n",
    "    sns.scatterplot(data=df, x=x_col, y=y_col)\n",
    "    plt.xlabel(x_col)\n",
    "    plt.ylabel(y_col)\n",
    "    plt.title(f\"Bivariate Analysis: {x_col} vs {y_col} (Scatter Plot)\")\n",
    "    plt.show()"
   ]
  },
  {
   "cell_type": "markdown",
   "metadata": {
    "id": "4Wl4i5XzY1vF"
   },
   "source": [
    "### Relationship between Price and Sentiment(Polarity scores)"
   ]
  },
  {
   "cell_type": "code",
   "execution_count": 45,
   "metadata": {
    "colab": {
     "base_uri": "https://localhost:8080/",
     "height": 718
    },
    "id": "N96NHMlAY1vF",
    "outputId": "53fa26cf-eace-417c-f82a-064205b7d8af"
   },
   "outputs": [
    {
     "data": {
      "image/png": "[encoded data removed]",
      "text/plain": [
       "<Figure size 720x576 with 1 Axes>"
      ]
     },
     "metadata": {
      "needs_background": "light"
     },
     "output_type": "display_data"
    }
   ],
   "source": [
    "bivariate_analysis_scatter(df, 'Price', 'polarity')"
   ]
  },
  {
   "cell_type": "markdown",
   "metadata": {
    "id": "ROWjeyQ5Y1vG"
   },
   "source": [
    "- There's no relationship between Price and Polarity/Customer Sentiments. It makes sense because someone could buy products of higher or lower prices and it wouldn't be a factor for positive or negative sentiments. It could all come down to other factors like quality or wait times for delivery etc."
   ]
  },
  {
   "cell_type": "markdown",
   "metadata": {
    "id": "MWNfFI12Y1vH"
   },
   "source": [
    "### Relationship between Price and Rate"
   ]
  },
  {
   "cell_type": "code",
   "execution_count": 46,
   "metadata": {
    "colab": {
     "base_uri": "https://localhost:8080/",
     "height": 564
    },
    "id": "IqDbybm5Y1vH",
    "outputId": "c87285b1-6f18-41c3-f02b-f95c69892408"
   },
   "outputs": [
    {
     "data": {
      "image/png": "[encoded data removed]",
      "text/plain": [
       "<Figure size 576x432 with 1 Axes>"
      ]
     },
     "metadata": {
      "needs_background": "light"
     },
     "output_type": "display_data"
    }
   ],
   "source": [
    "bivariate_analysis_box(df, 'Rate', 'Price')"
   ]
  },
  {
   "cell_type": "markdown",
   "metadata": {
    "id": "DlBSc4psY1vI"
   },
   "source": [
    "### Relationship between Sentiment and Rate"
   ]
  },
  {
   "cell_type": "code",
   "execution_count": 47,
   "metadata": {
    "colab": {
     "base_uri": "https://localhost:8080/",
     "height": 564
    },
    "id": "eAzAKAUNY1vJ",
    "outputId": "ccb3a269-f2be-49cf-88a8-37a677ebc62a"
   },
   "outputs": [
    {
     "data": {
      "image/png": "[encoded data removed]",
      "text/plain": [
       "<Figure size 576x432 with 1 Axes>"
      ]
     },
     "metadata": {
      "needs_background": "light"
     },
     "output_type": "display_data"
    }
   ],
   "source": [
    "bivariate_analysis_box(df, 'Rate', 'polarity')"
   ]
  },
  {
   "cell_type": "markdown",
   "metadata": {
    "id": "dKyFL9zpY1vK"
   },
   "source": [
    "### Relationship between product sentiment and Rate"
   ]
  },
  {
   "cell_type": "code",
   "execution_count": 48,
   "metadata": {
    "colab": {
     "base_uri": "https://localhost:8080/",
     "height": 564
    },
    "id": "Ws0CTha3Y1vL",
    "outputId": "d1fd4b2b-6c5a-4853-bd3e-74c153a0c0e6"
   },
   "outputs": [
    {
     "data": {
      "image/png": "[encoded data removed]",
      "text/plain": [
       "<Figure size 576x432 with 1 Axes>"
      ]
     },
     "metadata": {
      "needs_background": "light"
     },
     "output_type": "display_data"
    }
   ],
   "source": [
    "bivariate_analysis_box(df,'product_sentiment', 'Rate')"
   ]
  },
  {
   "cell_type": "markdown",
   "metadata": {
    "id": "KGp8Qs_jY1vM"
   },
   "source": [
    "### Relationship between product sentiment and Price"
   ]
  },
  {
   "cell_type": "code",
   "execution_count": 49,
   "metadata": {
    "colab": {
     "base_uri": "https://localhost:8080/",
     "height": 564
    },
    "id": "dM8IC24nY1vN",
    "outputId": "08e2edc6-db1c-498b-a7fa-6b02ac2ecade"
   },
   "outputs": [
    {
     "data": {
      "image/png": "[encoded data removed]",
      "text/plain": [
       "<Figure size 576x432 with 1 Axes>"
      ]
     },
     "metadata": {
      "needs_background": "light"
     },
     "output_type": "display_data"
    }
   ],
   "source": [
    "bivariate_analysis_box(df,'product_sentiment', 'Price')"
   ]
  },
  {
   "cell_type": "markdown",
   "metadata": {
    "id": "wlU6wXdkY1vO"
   },
   "source": [
    "### Relationship between product sentiment and sentiment"
   ]
  },
  {
   "cell_type": "code",
   "execution_count": 50,
   "metadata": {
    "colab": {
     "base_uri": "https://localhost:8080/",
     "height": 564
    },
    "id": "lNj5yW8gY1vP",
    "outputId": "07598855-f2f6-4102-bea3-54a42d95ed8d"
   },
   "outputs": [
    {
     "data": {
      "image/png": "[encoded data removed]",
      "text/plain": [
       "<Figure size 576x432 with 1 Axes>"
      ]
     },
     "metadata": {
      "needs_background": "light"
     },
     "output_type": "display_data"
    }
   ],
   "source": [
    "bivariate_analysis_box(df,'product_sentiment', 'polarity')"
   ]
  },
  {
   "cell_type": "markdown",
   "metadata": {
    "id": "_TtqDUnSY1vP"
   },
   "source": [
    "## Multivariate Analysis"
   ]
  },
  {
   "cell_type": "code",
   "execution_count": 51,
   "metadata": {
    "id": "V2Naf2qnY1vQ"
   },
   "outputs": [],
   "source": [
    "def plot_scatter_3_columns(df, x_col, y_col):\n",
    "    '''\n",
    "    Plots the relationship between two columns with differentiating churned and non-churned customers based on product sentiment\n",
    "    '''\n",
    "\n",
    "    # Define custom colors for product sentiment\n",
    "    sentiment_colors = {\n",
    "        'Positive': 'green',\n",
    "        'Negative': 'red',\n",
    "        'Neutral': 'gray'\n",
    "    }\n",
    "\n",
    "    # Map sentiment values to corresponding colors\n",
    "    color_map = [sentiment_colors[sentiment] for sentiment in df['product_sentiment']]\n",
    "\n",
    "    plt.figure(figsize=(12, 7), dpi=80)\n",
    "    plt.scatter(df[x_col], df[y_col], c=color_map)\n",
    "    plt.title(f\"{x_col} vs {y_col} - Product Sentiment Comparison\", fontsize=16)\n",
    "    plt.xlabel(x_col, fontsize=14)\n",
    "    plt.ylabel(y_col, fontsize=14)\n",
    "\n",
    "    # Create custom legend for product sentiment colors\n",
    "    legend_elements = [\n",
    "        plt.Line2D([0], [0], marker='o', color='w', label='Positive', markerfacecolor='green', markersize=8),\n",
    "        plt.Line2D([0], [0], marker='o', color='w', label='Negative', markerfacecolor='red', markersize=8),\n",
    "        plt.Line2D([0], [0], marker='o', color='w', label='Neutral', markerfacecolor='gray', markersize=8)\n",
    "    ]\n",
    "    plt.legend(handles=legend_elements, title='Product Sentiment')\n",
    "\n",
    "    plt.tight_layout()\n",
    "    plt.show()"
   ]
  },
  {
   "cell_type": "code",
   "execution_count": 52,
   "metadata": {
    "colab": {
     "base_uri": "https://localhost:8080/",
     "height": 569
    },
    "id": "zrs8OXpRY1vQ",
    "outputId": "4c87442d-34c2-4374-cc9c-97597ee3a1ff"
   },
   "outputs": [
    {
     "data": {
      "image/png": "[encoded data removed]",
      "text/plain": [
       "<Figure size 960x560 with 1 Axes>"
      ]
     },
     "metadata": {
      "needs_background": "light"
     },
     "output_type": "display_data"
    }
   ],
   "source": [
    "plot_scatter_3_columns(df, 'Rate', 'Price')"
   ]
  },
  {
   "cell_type": "code",
   "execution_count": 53,
   "metadata": {
    "colab": {
     "base_uri": "https://localhost:8080/",
     "height": 569
    },
    "id": "L2E6jfqNY1vR",
    "outputId": "3f5b8e54-81c9-4be1-eabe-9f9e98a8e79f"
   },
   "outputs": [
    {
     "data": {
      "image/png": "[encoded data removed]",
      "text/plain": [
       "<Figure size 960x560 with 1 Axes>"
      ]
     },
     "metadata": {
      "needs_background": "light"
     },
     "output_type": "display_data"
    }
   ],
   "source": [
    "plot_scatter_3_columns(df, 'Rate', 'polarity')"
   ]
  },
  {
   "cell_type": "markdown",
   "metadata": {
    "id": "EyjJXoaEY1vT"
   },
   "source": [
    "# PREPARATION FOR MODELLING"
   ]
  },
  {
   "cell_type": "markdown",
   "metadata": {
    "id": "0OwZonWaY1vU"
   },
   "source": [
    "### 1.3 Text Preprocessing\n",
    "We will do some text preprocessing to clean our text data(Summary). To do this we'll change it to lowercase, remove stop words, punctuation, We'll also tokenize & lemmatize our texts."
   ]
  },
  {
   "cell_type": "code",
   "execution_count": 54,
   "metadata": {
    "id": "kerW7LWpY1vV"
   },
   "outputs": [],
   "source": [
    "stop_words = set(stopwords.words('english'))\n",
    "\n",
    "def remove_stopwords(Summary):\n",
    "    # Use list comprehension for efficient list creation\n",
    "    new_Summary = [word for word in Summary.split() if word not in stop_words]\n",
    "    return \" \".join(new_Summary)\n",
    "\n",
    "# Apply the function to the 'Summary' column\n",
    "df['Summary'] = df['Summary'].apply(remove_stopwords)"
   ]
  },
  {
   "cell_type": "code",
   "execution_count": 55,
   "metadata": {
    "colab": {
     "base_uri": "https://localhost:8080/",
     "height": 206
    },
    "id": "e2Zbfin0Y1vW",
    "outputId": "9e40cfec-2001-4eb2-fc5b-03f93c7d017c"
   },
   "outputs": [
    {
     "data": {
      "text/html": [
       "<div>\n",
       "<style scoped>\n",
       "    .dataframe tbody tr th:only-of-type {\n",
       "        vertical-align: middle;\n",
       "    }\n",
       "\n",
       "    .dataframe tbody tr th {\n",
       "        vertical-align: top;\n",
       "    }\n",
       "\n",
       "    .dataframe thead th {\n",
       "        text-align: right;\n",
       "    }\n",
       "</style>\n",
       "<table border=\"1\" class=\"dataframe\">\n",
       "  <thead>\n",
       "    <tr style=\"text-align: right;\">\n",
       "      <th></th>\n",
       "      <th>ProductName</th>\n",
       "      <th>Price</th>\n",
       "      <th>Rate</th>\n",
       "      <th>Review</th>\n",
       "      <th>Summary</th>\n",
       "      <th>polarity</th>\n",
       "      <th>product_sentiment</th>\n",
       "    </tr>\n",
       "  </thead>\n",
       "  <tbody>\n",
       "    <tr>\n",
       "      <th>0</th>\n",
       "      <td>Candes 12 L Room/Personal Air Cooler (White Bl...</td>\n",
       "      <td>3999.0</td>\n",
       "      <td>5.0</td>\n",
       "      <td>Super</td>\n",
       "      <td>[Great, cooler, excellent, air, flow, price, I...</td>\n",
       "      <td>0.9576</td>\n",
       "      <td>Positive</td>\n",
       "    </tr>\n",
       "    <tr>\n",
       "      <th>1</th>\n",
       "      <td>Candes 12 L Room/Personal Air Cooler (White Bl...</td>\n",
       "      <td>3999.0</td>\n",
       "      <td>5.0</td>\n",
       "      <td>Awesome</td>\n",
       "      <td>[Best, budget, 2, fit, cooler, Nice, cooling]</td>\n",
       "      <td>0.8591</td>\n",
       "      <td>Positive</td>\n",
       "    </tr>\n",
       "    <tr>\n",
       "      <th>2</th>\n",
       "      <td>Candes 12 L Room/Personal Air Cooler (White Bl...</td>\n",
       "      <td>3999.0</td>\n",
       "      <td>3.0</td>\n",
       "      <td>Fair</td>\n",
       "      <td>[The, quality, good, power, air, decent]</td>\n",
       "      <td>0.2382</td>\n",
       "      <td>Positive</td>\n",
       "    </tr>\n",
       "    <tr>\n",
       "      <th>3</th>\n",
       "      <td>Candes 12 L Room/Personal Air Cooler (White Bl...</td>\n",
       "      <td>3999.0</td>\n",
       "      <td>1.0</td>\n",
       "      <td>Useless product</td>\n",
       "      <td>[Very, bad, product, fan]</td>\n",
       "      <td>-0.3597</td>\n",
       "      <td>Negative</td>\n",
       "    </tr>\n",
       "    <tr>\n",
       "      <th>4</th>\n",
       "      <td>Candes 12 L Room/Personal Air Cooler (White Bl...</td>\n",
       "      <td>3999.0</td>\n",
       "      <td>3.0</td>\n",
       "      <td>Fair</td>\n",
       "      <td>[Ok, ok, product]</td>\n",
       "      <td>0.5267</td>\n",
       "      <td>Positive</td>\n",
       "    </tr>\n",
       "  </tbody>\n",
       "</table>\n",
       "</div>"
      ],
      "text/plain": [
       "                                         ProductName   Price  Rate  \\\n",
       "0  Candes 12 L Room/Personal Air Cooler (White Bl...  3999.0   5.0   \n",
       "1  Candes 12 L Room/Personal Air Cooler (White Bl...  3999.0   5.0   \n",
       "2  Candes 12 L Room/Personal Air Cooler (White Bl...  3999.0   3.0   \n",
       "3  Candes 12 L Room/Personal Air Cooler (White Bl...  3999.0   1.0   \n",
       "4  Candes 12 L Room/Personal Air Cooler (White Bl...  3999.0   3.0   \n",
       "\n",
       "            Review                                            Summary  \\\n",
       "0            Super  [Great, cooler, excellent, air, flow, price, I...   \n",
       "1          Awesome      [Best, budget, 2, fit, cooler, Nice, cooling]   \n",
       "2             Fair           [The, quality, good, power, air, decent]   \n",
       "3  Useless product                          [Very, bad, product, fan]   \n",
       "4             Fair                                  [Ok, ok, product]   \n",
       "\n",
       "   polarity product_sentiment  \n",
       "0    0.9576          Positive  \n",
       "1    0.8591          Positive  \n",
       "2    0.2382          Positive  \n",
       "3   -0.3597          Negative  \n",
       "4    0.5267          Positive  "
      ]
     },
     "execution_count": 55,
     "metadata": {},
     "output_type": "execute_result"
    }
   ],
   "source": [
    "# tokenize the Summary text\n",
    "df['Summary'] = df.apply(lambda row: nltk.word_tokenize(row['Summary']), axis=1)\n",
    "df.head()"
   ]
  },
  {
   "cell_type": "code",
   "execution_count": 56,
   "metadata": {
    "id": "w3zWocqQY1vW"
   },
   "outputs": [],
   "source": [
    "# One hot encode target column\n",
    "df['product_sentiment'] = df['product_sentiment'].map({'Positive':1, 'Negative':0, 'Neutral':2})"
   ]
  },
  {
   "cell_type": "code",
   "execution_count": 57,
   "metadata": {
    "colab": {
     "base_uri": "https://localhost:8080/",
     "height": 206
    },
    "id": "Yuk-AySyY1vX",
    "outputId": "df3b0795-9009-4b7d-d916-978cf6ed5212"
   },
   "outputs": [
    {
     "data": {
      "text/html": [
       "<div>\n",
       "<style scoped>\n",
       "    .dataframe tbody tr th:only-of-type {\n",
       "        vertical-align: middle;\n",
       "    }\n",
       "\n",
       "    .dataframe tbody tr th {\n",
       "        vertical-align: top;\n",
       "    }\n",
       "\n",
       "    .dataframe thead th {\n",
       "        text-align: right;\n",
       "    }\n",
       "</style>\n",
       "<table border=\"1\" class=\"dataframe\">\n",
       "  <thead>\n",
       "    <tr style=\"text-align: right;\">\n",
       "      <th></th>\n",
       "      <th>ProductName</th>\n",
       "      <th>Price</th>\n",
       "      <th>Rate</th>\n",
       "      <th>Review</th>\n",
       "      <th>Summary</th>\n",
       "      <th>polarity</th>\n",
       "      <th>product_sentiment</th>\n",
       "    </tr>\n",
       "  </thead>\n",
       "  <tbody>\n",
       "    <tr>\n",
       "      <th>0</th>\n",
       "      <td>Candes 12 L Room/Personal Air Cooler (White Bl...</td>\n",
       "      <td>3999.0</td>\n",
       "      <td>5.0</td>\n",
       "      <td>Super</td>\n",
       "      <td>great cooler excellent air flow price its amaz...</td>\n",
       "      <td>0.9576</td>\n",
       "      <td>1</td>\n",
       "    </tr>\n",
       "    <tr>\n",
       "      <th>1</th>\n",
       "      <td>Candes 12 L Room/Personal Air Cooler (White Bl...</td>\n",
       "      <td>3999.0</td>\n",
       "      <td>5.0</td>\n",
       "      <td>Awesome</td>\n",
       "      <td>best budget 2 fit cooler nice cool</td>\n",
       "      <td>0.8591</td>\n",
       "      <td>1</td>\n",
       "    </tr>\n",
       "    <tr>\n",
       "      <th>2</th>\n",
       "      <td>Candes 12 L Room/Personal Air Cooler (White Bl...</td>\n",
       "      <td>3999.0</td>\n",
       "      <td>3.0</td>\n",
       "      <td>Fair</td>\n",
       "      <td>the quality good power air decent</td>\n",
       "      <td>0.2382</td>\n",
       "      <td>1</td>\n",
       "    </tr>\n",
       "    <tr>\n",
       "      <th>3</th>\n",
       "      <td>Candes 12 L Room/Personal Air Cooler (White Bl...</td>\n",
       "      <td>3999.0</td>\n",
       "      <td>1.0</td>\n",
       "      <td>Useless product</td>\n",
       "      <td>very bad product fan</td>\n",
       "      <td>-0.3597</td>\n",
       "      <td>0</td>\n",
       "    </tr>\n",
       "    <tr>\n",
       "      <th>4</th>\n",
       "      <td>Candes 12 L Room/Personal Air Cooler (White Bl...</td>\n",
       "      <td>3999.0</td>\n",
       "      <td>3.0</td>\n",
       "      <td>Fair</td>\n",
       "      <td>ok ok product</td>\n",
       "      <td>0.5267</td>\n",
       "      <td>1</td>\n",
       "    </tr>\n",
       "  </tbody>\n",
       "</table>\n",
       "</div>"
      ],
      "text/plain": [
       "                                         ProductName   Price  Rate  \\\n",
       "0  Candes 12 L Room/Personal Air Cooler (White Bl...  3999.0   5.0   \n",
       "1  Candes 12 L Room/Personal Air Cooler (White Bl...  3999.0   5.0   \n",
       "2  Candes 12 L Room/Personal Air Cooler (White Bl...  3999.0   3.0   \n",
       "3  Candes 12 L Room/Personal Air Cooler (White Bl...  3999.0   1.0   \n",
       "4  Candes 12 L Room/Personal Air Cooler (White Bl...  3999.0   3.0   \n",
       "\n",
       "            Review                                            Summary  \\\n",
       "0            Super  great cooler excellent air flow price its amaz...   \n",
       "1          Awesome                 best budget 2 fit cooler nice cool   \n",
       "2             Fair                  the quality good power air decent   \n",
       "3  Useless product                               very bad product fan   \n",
       "4             Fair                                      ok ok product   \n",
       "\n",
       "   polarity product_sentiment  \n",
       "0    0.9576                 1  \n",
       "1    0.8591                 1  \n",
       "2    0.2382                 1  \n",
       "3   -0.3597                 0  \n",
       "4    0.5267                 1  "
      ]
     },
     "execution_count": 57,
     "metadata": {},
     "output_type": "execute_result"
    }
   ],
   "source": [
    "lemmatizer = WordNetLemmatizer()\n",
    "\n",
    "def to_lowercase(words):\n",
    "    \"\"\"Convert all characters to lowercase from a list of tokenized words\"\"\"\n",
    "    new_words = []\n",
    "    for word in words:\n",
    "        new_word = word.lower()\n",
    "        new_words.append(new_word)\n",
    "    return new_words\n",
    "\n",
    "def remove_punctuation(words):\n",
    "    \"\"\"Remove punctuation from a list of tokenized words\"\"\"\n",
    "    new_words = []\n",
    "    for word in words:\n",
    "        new_word = re.sub(r'[^\\w\\s]', '', word)\n",
    "        if new_word != '':\n",
    "            new_words.append(new_word)\n",
    "    return new_words\n",
    "\n",
    "def lemmatize_list(words):\n",
    "    \"\"\"Lemmatize a list of words using WordNet lemmatizer\"\"\"\n",
    "    new_words = []\n",
    "    for word in words:\n",
    "        new_words.append(lemmatizer.lemmatize(word, pos='v'))\n",
    "    return new_words\n",
    "\n",
    "def normalize(words):\n",
    "    \"\"\"Normalize a list of words by applying lowercase conversion, punctuation removal, and lemmatization\"\"\"\n",
    "    words = to_lowercase(words)\n",
    "    words = remove_punctuation(words)\n",
    "    words = lemmatize_list(words)\n",
    "    return ' '.join(words)\n",
    "\n",
    "# Apply normalization to the 'Summary' column of the DataFrame\n",
    "df['Summary'] = df.apply(lambda row: normalize(row['Summary']), axis=1)\n",
    "\n",
    "# Display the updated DataFrame\n",
    "df.head()"
   ]
  },
  {
   "cell_type": "code",
   "execution_count": 58,
   "metadata": {
    "colab": {
     "base_uri": "https://localhost:8080/",
     "height": 206
    },
    "id": "g2ofWzHtY1vY",
    "outputId": "1ac25bb3-c6c0-4f75-a861-a6abc4a7277e"
   },
   "outputs": [
    {
     "data": {
      "text/html": [
       "<div>\n",
       "<style scoped>\n",
       "    .dataframe tbody tr th:only-of-type {\n",
       "        vertical-align: middle;\n",
       "    }\n",
       "\n",
       "    .dataframe tbody tr th {\n",
       "        vertical-align: top;\n",
       "    }\n",
       "\n",
       "    .dataframe thead th {\n",
       "        text-align: right;\n",
       "    }\n",
       "</style>\n",
       "<table border=\"1\" class=\"dataframe\">\n",
       "  <thead>\n",
       "    <tr style=\"text-align: right;\">\n",
       "      <th></th>\n",
       "      <th>Summary</th>\n",
       "      <th>product_sentiment</th>\n",
       "    </tr>\n",
       "  </thead>\n",
       "  <tbody>\n",
       "    <tr>\n",
       "      <th>0</th>\n",
       "      <td>great cooler excellent air flow price its amaz...</td>\n",
       "      <td>1</td>\n",
       "    </tr>\n",
       "    <tr>\n",
       "      <th>1</th>\n",
       "      <td>best budget 2 fit cooler nice cool</td>\n",
       "      <td>1</td>\n",
       "    </tr>\n",
       "    <tr>\n",
       "      <th>2</th>\n",
       "      <td>the quality good power air decent</td>\n",
       "      <td>1</td>\n",
       "    </tr>\n",
       "    <tr>\n",
       "      <th>3</th>\n",
       "      <td>very bad product fan</td>\n",
       "      <td>0</td>\n",
       "    </tr>\n",
       "    <tr>\n",
       "      <th>4</th>\n",
       "      <td>ok ok product</td>\n",
       "      <td>1</td>\n",
       "    </tr>\n",
       "  </tbody>\n",
       "</table>\n",
       "</div>"
      ],
      "text/plain": [
       "                                             Summary product_sentiment\n",
       "0  great cooler excellent air flow price its amaz...                 1\n",
       "1                 best budget 2 fit cooler nice cool                 1\n",
       "2                  the quality good power air decent                 1\n",
       "3                               very bad product fan                 0\n",
       "4                                      ok ok product                 1"
      ]
     },
     "execution_count": 58,
     "metadata": {},
     "output_type": "execute_result"
    }
   ],
   "source": [
    "df.drop(columns =['ProductName', 'Price', 'Rate', 'Review', 'polarity'], inplace=True)\n",
    "df.head()"
   ]
  },
  {
   "cell_type": "markdown",
   "metadata": {
    "id": "uF-RVXhuSm-N"
   },
   "source": [
    "## BERT(Bidirectional Encoder Representation) - HuggingFace Transformers\n"
   ]
  },
  {
   "cell_type": "code",
   "execution_count": 59,
   "metadata": {
    "colab": {
     "base_uri": "https://localhost:8080/"
    },
    "id": "0vqJ6oRvcmqF",
    "outputId": "e2b1ccf5-83c0-484e-8b5b-3b2b7bd84b6d"
   },
   "outputs": [
    {
     "data": {
      "text/plain": [
       "1    124668\n",
       "0     20546\n",
       "2     17740\n",
       "Name: product_sentiment, dtype: int64"
      ]
     },
     "execution_count": 59,
     "metadata": {},
     "output_type": "execute_result"
    }
   ],
   "source": [
    "# Check the samples per class\n",
    "df['product_sentiment'].value_counts()"
   ]
  },
  {
   "cell_type": "code",
   "execution_count": 60,
   "metadata": {
    "colab": {
     "base_uri": "https://localhost:8080/"
    },
    "id": "nUp8Vy8ztXcv",
    "outputId": "0366d882-377a-4894-d969-fe051ceebc61"
   },
   "outputs": [
    {
     "data": {
      "text/plain": [
       "2    17740\n",
       "1    17731\n",
       "0    17731\n",
       "Name: product_sentiment, dtype: int64"
      ]
     },
     "execution_count": 60,
     "metadata": {},
     "output_type": "execute_result"
    }
   ],
   "source": [
    "# Balance out the classes for the purpose of demonstration\n",
    "positive = df[df['product_sentiment'] == 1].sample(n=17731, random_state=42)\n",
    "negative = df[df['product_sentiment'] == 0].sample(n=17731, random_state=42)\n",
    "neutral = df[df['product_sentiment'] == 2]\n",
    "train_data = pd.concat([positive, negative, neutral]).sample(frac=1).reset_index(drop=True)\n",
    "train_data['product_sentiment'].value_counts()"
   ]
  },
  {
   "cell_type": "code",
   "execution_count": 61,
   "metadata": {
    "colab": {
     "base_uri": "https://localhost:8080/"
    },
    "id": "tKqfcm75tYII",
    "outputId": "8e092975-c161-4a54-a440-f845e658287a"
   },
   "outputs": [
    {
     "name": "stdout",
     "output_type": "stream",
     "text": [
      "Sample reviews:\n",
      "['bad', 'avarage quality', 'receive good condition product good price range one thing dust cover good per product', 'quality poor', 'transparent', 'after one month face problem adapter os work properly engineer knowledge liv pure ro']\n",
      "Corresponding labels:\n",
      "[0, 2, 1, 0, 2, 0]\n"
     ]
    }
   ],
   "source": [
    "# Sample reviews and its corresponding labels\n",
    "reviews = train_data['Summary'].tolist()\n",
    "labels = train_data['product_sentiment'].tolist()\n",
    "\n",
    "print(\"Sample reviews:\")\n",
    "print(reviews[10:16])\n",
    "print(\"Corresponding labels:\")\n",
    "print(labels[10:16])"
   ]
  },
  {
   "cell_type": "code",
   "execution_count": 62,
   "metadata": {
    "colab": {
     "base_uri": "https://localhost:8080/"
    },
    "id": "YnLT1WjOvc_f",
    "outputId": "f4b7ce7a-4df5-4972-d2b0-7738c60d4f8b"
   },
   "outputs": [
    {
     "name": "stdout",
     "output_type": "stream",
     "text": [
      "Number of train data points: 42561\n",
      "Number of train labels: 42561\n",
      "Number of test data points: 10641\n",
      "Number of test labels: 10641\n"
     ]
    }
   ],
   "source": [
    "# Split the data into train, test and validation split\n",
    "from sklearn.model_selection import train_test_split\n",
    "X_train, X_test, y_train, y_test  = train_test_split(reviews, labels, test_size=.2, random_state=42)\n",
    "# Number of train and test data\n",
    "print(\"Number of train data points:\", len(X_train))\n",
    "print(\"Number of train labels:\", len(y_train))\n",
    "print(\"Number of test data points:\", len(X_test))\n",
    "print(\"Number of test labels:\", len(y_test))"
   ]
  },
  {
   "cell_type": "code",
   "execution_count": 63,
   "metadata": {
    "colab": {
     "base_uri": "https://localhost:8080/",
     "height": 269,
     "referenced_widgets": [
      "613402c1519e4cb294494fd4ac11b775",
      "184c545e54034520845eb341e596592c",
      "d893724c44ae48c18195ae9bfb64bd3b",
      "d04039fc7ffd47d780162e86a11003bc",
      "a56d7155a01d408b999b6229c230a794",
      "3adfc6c7613b4b0d9041d93491beaf4b",
      "02a0ce8295014dfba30e4fb9b8b6fbed",
      "81742e8194f449958df8d34a43600dbd",
      "a35a1ae713f14aee873b15458a856471",
      "ba0e81e16e4c495a878b1a592d2b0b19",
      "6f6acca5da124180afe780d454bf6559",
      "17be6f1bdd9e4319a68b3e68df1bbe4f",
      "e89b2e1e48cd4e2180359daea84d738b",
      "dd25f395e786401f83bc9749944effe3",
      "6ee6b8e618874582bdf4572fa7d13feb",
      "1455dabe3139429c97e4646831b15fff",
      "2dd685947e4c4a0ebf1377f58474de0b",
      "8baa4412fc5c4a67aa90e266c4a37272",
      "afff1e8bf20c44968d03c42477cb85b5",
      "d59c0299b5ee4e8c8d506eac43cd4ee0",
      "89033e2c1f2345e39084854f74dd855a",
      "3fa2377e54f24897bcc385fa7f3550e3",
      "3ede6edd04374934ae8277b0f7659010",
      "1280698dd01e4395919169cf2d0b044b",
      "f8ba1fdf97d44f37a67f85b518d0e943",
      "f4546890af2247149acb41b02085986a",
      "e0cbc660230346279edffa167d1bc11b",
      "64b0ba495b3e43849dde5a3d9edb40a0",
      "9265c57c692e4d979fca39eef72b2abe",
      "dee6389f617b4a25a1fd1d2ddc0e4dbf",
      "94ab78ef7ac74002842100d71c50064f",
      "d3b47be5a5cb4f6386e9cec45e702541",
      "69ce0df480dc4e94a767985b1e042ca6",
      "59e6f60702d347d3936dd554057819b1",
      "28c3bcc7d20549d3b7233c2c6b59193e",
      "5377e1f915a34e729e4f888eea40b78b",
      "e4132fe1c67349a28fdd70a1f1a83ef9",
      "2854c5a970c24a71be5618d97ea12c12",
      "520bd57e1f0c4165bb13d2e1432fdb15",
      "b0297c23730e4f568fef5a42244ff334",
      "e90bf5f881e34b4cb98d9c62eb62b188",
      "877b063c411e42529e3cee9b2ce9f578",
      "89df7f046a8b427a9a132e9e68cf20ab",
      "5bb86d03cc1242af9ee03ebe4a39a3dd"
     ]
    },
    "id": "6UZWG1nbvd7E",
    "outputId": "f508f83d-d436-4656-ade4-c315c67e1645"
   },
   "outputs": [
    {
     "name": "stderr",
     "output_type": "stream",
     "text": [
      "Downloading (…)okenizer_config.json: 100%|██████████| 28.0/28.0 [00:00<00:00, 839B/s]\n",
      "Downloading (…)solve/main/vocab.txt: 100%|██████████| 232k/232k [00:00<00:00, 350kB/s]\n",
      "Downloading (…)/main/tokenizer.json: 100%|██████████| 466k/466k [00:01<00:00, 271kB/s]\n",
      "Downloading (…)lve/main/config.json: 100%|██████████| 570/570 [00:00<00:00, 157kB/s]\n",
      "The tokenizer class you load from this checkpoint is not the same type as the class this function is called from. It may result in unexpected tokenization. \n",
      "The tokenizer class you load from this checkpoint is 'BertTokenizer'. \n",
      "The class this function is called from is 'DistilBertTokenizerFast'.\n"
     ]
    },
    {
     "name": "stdout",
     "output_type": "stream",
     "text": [
      "Sentence: good\n"
     ]
    },
    {
     "data": {
      "text/plain": [
       "{'input_ids': <tf.Tensor: shape=(1, 3), dtype=int32, numpy=array([[ 101, 2204,  102]], dtype=int32)>, 'attention_mask': <tf.Tensor: shape=(1, 3), dtype=int32, numpy=array([[1, 1, 1]], dtype=int32)>}"
      ]
     },
     "execution_count": 63,
     "metadata": {},
     "output_type": "execute_result"
    }
   ],
   "source": [
    "# Load the tokenizer\n",
    "import tensorflow as tf\n",
    "from transformers import DistilBertTokenizerFast\n",
    "MODEL_NAME = 'bert-base-uncased'\n",
    "tokenizer = DistilBertTokenizerFast.from_pretrained(MODEL_NAME)\n",
    "# Sample tokenization\n",
    "print(\"Sentence:\" , X_train[10])\n",
    "tokenizer(X_train[10], truncation=True, padding=True, max_length=256, return_tensors=\"tf\")"
   ]
  },
  {
   "cell_type": "code",
   "execution_count": 64,
   "metadata": {
    "id": "s-fbJPxoveZU"
   },
   "outputs": [],
   "source": [
    "# Perform tokenization\n",
    "MAX_LENGTH=256\n",
    "train_encodings = tokenizer(X_train,\n",
    "                            truncation=True,\n",
    "                            padding=True,\n",
    "                            return_tensors=\"tf\",\n",
    "                            max_length=MAX_LENGTH)\n",
    "test_encodings = tokenizer(X_test,\n",
    "                           truncation=True,\n",
    "                           padding=True,\n",
    "                           return_tensors=\"tf\",\n",
    "                           max_length=MAX_LENGTH)\n",
    "# Convert the tokenizer to TF object\n",
    "train_dataset = tf.data.Dataset.from_tensor_slices((dict(train_encodings),\n",
    "                                                    y_train))\n",
    "test_dataset = tf.data.Dataset.from_tensor_slices((dict(test_encodings),\n",
    "                                                   y_test))"
   ]
  },
  {
   "cell_type": "code",
   "execution_count": 65,
   "metadata": {
    "colab": {
     "base_uri": "https://localhost:8080/",
     "height": 138,
     "referenced_widgets": [
      "0342604aca444be0925733ff539a643b",
      "598ebe99761644ac9842c15798454f1d",
      "eab9bf83f0bb482b8410a22e8ed58649",
      "fe485341d254493fb55f0c4dc0ee9f04",
      "896780312600453191581f468476bf05",
      "ee333f02ca5548b19b01fba820c1f403",
      "154f7f813c414e3e8afc488aa2c5592e",
      "af0d7824830049daaa25e9e9bbd8c913",
      "a30c707323624d648a624dd579975c34",
      "7912a1313bc14877be2b3e3c497877f8",
      "8e2020d087b246e3bc25504639e76b89"
     ]
    },
    "id": "u_ThXqAyvfI1",
    "outputId": "9b044339-a07d-48a7-fa85-c46c818e1bf6"
   },
   "outputs": [
    {
     "name": "stderr",
     "output_type": "stream",
     "text": [
      "Downloading model.safetensors: 100%|██████████| 440M/440M [26:41<00:00, 275kB/s] \n",
      "All PyTorch model weights were used when initializing TFBertForSequenceClassification.\n",
      "\n",
      "Some weights or buffers of the TF 2.0 model TFBertForSequenceClassification were not initialized from the PyTorch model and are newly initialized: ['classifier.weight', 'classifier.bias']\n",
      "You should probably TRAIN this model on a down-stream task to be able to use it for predictions and inference.\n"
     ]
    }
   ],
   "source": [
    "# Define the model - use pretrained distilbert model and specify the label\n",
    "from transformers import TFBertForSequenceClassification\n",
    "model = TFBertForSequenceClassification.from_pretrained(\n",
    "    pretrained_model_name_or_path=MODEL_NAME,\n",
    "    num_labels=3\n",
    "    )"
   ]
  },
  {
   "cell_type": "code",
   "execution_count": 66,
   "metadata": {
    "colab": {
     "base_uri": "https://localhost:8080/"
    },
    "id": "mo20R-204lbU",
    "outputId": "160017bc-9427-4ff3-d097-420261fd8837"
   },
   "outputs": [
    {
     "name": "stdout",
     "output_type": "stream",
     "text": [
      "Model: \"tf_bert_for_sequence_classification\"\n",
      "_________________________________________________________________\n",
      " Layer (type)                Output Shape              Param #   \n",
      "=================================================================\n",
      " bert (TFBertMainLayer)      multiple                  109482240 \n",
      "                                                                 \n",
      " dropout_37 (Dropout)        multiple                  0         \n",
      "                                                                 \n",
      " classifier (Dense)          multiple                  2307      \n",
      "                                                                 \n",
      "=================================================================\n",
      "Total params: 109,484,547\n",
      "Trainable params: 109,484,547\n",
      "Non-trainable params: 0\n",
      "_________________________________________________________________\n"
     ]
    }
   ],
   "source": [
    "# Specify the model optimizer\n",
    "optimizer = tf.keras.optimizers.Adam(\n",
    "            learning_rate=5e-5,\n",
    "        )\n",
    "# Specify the loss function\n",
    "loss_func = tf.keras.losses.SparseCategoricalCrossentropy(from_logits=True)\n",
    "# Compile the model\n",
    "\n",
    "model.compile(optimizer=optimizer, loss=loss_func, metrics=['accuracy'])\n",
    "# Inspect the model\n",
    "model.summary()"
   ]
  },
  {
   "cell_type": "code",
   "execution_count": 67,
   "metadata": {
    "colab": {
     "base_uri": "https://localhost:8080/"
    },
    "id": "4VheKw-l4mPw",
    "outputId": "e4d8ca4c-24f5-4a76-92e0-8da1d88f3d80"
   },
   "outputs": [
    {
     "name": "stdout",
     "output_type": "stream",
     "text": [
      "Epoch 1/2\n",
      "   3/1331 [..............................] - ETA: 13:24:15 - loss: 1.0715 - accuracy: 0.5104"
     ]
    }
   ],
   "source": [
    "# Define hyperparameters\n",
    "BATCH_SIZE = 32\n",
    "NUM_EPOCHS = 2\n",
    "\n",
    "# Train the model\n",
    "model.fit(train_dataset.shuffle(len(X_train)).batch(BATCH_SIZE),\n",
    "          epochs=NUM_EPOCHS,\n",
    "          batch_size=BATCH_SIZE,\n",
    "          validation_data=test_dataset.shuffle(len(X_test)).batch(BATCH_SIZE)\n",
    "          )"
   ]
  },
  {
   "cell_type": "code",
   "execution_count": null,
   "metadata": {
    "id": "J1WOoq4tOOFh"
   },
   "outputs": [],
   "source": [
    "# Save the model\n",
    "model.save_pretrained(\"/content/drive/MyDrive/sentiment_model\")"
   ]
  },
  {
   "cell_type": "code",
   "execution_count": null,
   "metadata": {
    "id": "sOdwfHTaOO5e"
   },
   "outputs": [],
   "source": [
    "file_path = '/content/drive/MyDrive/sentiment_model.pkl'\n",
    "\n",
    "with open(file_path, 'wb') as file:\n",
    "    # Use pickle to dump the model into the file\n",
    "    pickle.dump(model, file)"
   ]
  },
  {
   "cell_type": "code",
   "execution_count": null,
   "metadata": {
    "id": "-DspDHnUY1vZ"
   },
   "outputs": [],
   "source": [
    "X = df['Summary']\n",
    "y = df['product_sentiment']\n",
    "\n",
    "#split the data into train and test\n",
    "X_train, X_test, y_train, y_test = train_test_split(X, y, test_size=0.2, random_state=42)"
   ]
  },
  {
   "cell_type": "markdown",
   "metadata": {
    "id": "fH7R5KGCY1vZ"
   },
   "source": [
    "### TF-IDF Vectorization"
   ]
  },
  {
   "cell_type": "code",
   "execution_count": null,
   "metadata": {
    "id": "_xoyefo1Y1va"
   },
   "outputs": [],
   "source": [
    "# Vectorize the text data using TF-IDF vectorizer\n",
    "# we vectorize so that machine algorithm can be able to understand\n",
    "vectorizer = TfidfVectorizer()\n",
    "X_train_vectorized = vectorizer.fit_transform(X_train)\n",
    "X_test_vectorized = vectorizer.transform(X_test)"
   ]
  },
  {
   "cell_type": "markdown",
   "metadata": {
    "id": "WiiuexMWY1va"
   },
   "source": [
    "### Resampling"
   ]
  },
  {
   "cell_type": "code",
   "execution_count": null,
   "metadata": {
    "colab": {
     "base_uri": "https://localhost:8080/"
    },
    "id": "M5Cc_3QlY1vb",
    "outputId": "2772e03c-050e-41d7-a73e-6d234a91ce6c"
   },
   "outputs": [
    {
     "name": "stdout",
     "output_type": "stream",
     "text": [
      "Original class distribution: \n",
      "\n",
      "1    124565\n",
      "0     20658\n",
      "2     17731\n",
      "Name: product_sentiment, dtype: int64\n",
      "-----------------------------------------\n",
      "Synthetic sample class distribution: \n",
      "\n",
      "0    99694\n",
      "2    99694\n",
      "1    99694\n",
      "Name: product_sentiment, dtype: int64\n"
     ]
    }
   ],
   "source": [
    "# Previous original class distribution\n",
    "print('Original class distribution: \\n')\n",
    "print(y.value_counts())\n",
    "smote = SMOTE()\n",
    "X_train_smote, y_train_smote = smote.fit_resample(X_train_vectorized, y_train)\n",
    "# Preview synthetic sample class distribution\n",
    "print('-----------------------------------------')\n",
    "print('Synthetic sample class distribution: \\n')\n",
    "print(pd.Series(y_train_smote).value_counts())"
   ]
  },
  {
   "cell_type": "markdown",
   "metadata": {
    "id": "WzOAGSQaLsAj"
   },
   "source": [
    "## RANDOM FOREST"
   ]
  },
  {
   "cell_type": "code",
   "execution_count": null,
   "metadata": {
    "colab": {
     "base_uri": "https://localhost:8080/"
    },
    "id": "dUfgiPN5mMXD",
    "outputId": "950fbd6c-342f-46a5-8442-da605313ef62"
   },
   "outputs": [
    {
     "name": "stdout",
     "output_type": "stream",
     "text": [
      "Accuracy on training set: 0.9928013053276359\n",
      "Accuracy on test set: 0.9455371114724924\n"
     ]
    }
   ],
   "source": [
    "forest = RandomForestClassifier()\n",
    "\n",
    "forest.fit(X_train_smote,y_train_smote)\n",
    "y_pred_forest = forest.predict(X_test_vectorized)\n",
    "\n",
    "print('Accuracy on training set:',forest.score(X_train_smote,y_train_smote))\n",
    "print('Accuracy on test set:',forest.score(X_test_vectorized,y_test))"
   ]
  },
  {
   "cell_type": "code",
   "execution_count": null,
   "metadata": {
    "colab": {
     "base_uri": "https://localhost:8080/"
    },
    "id": "P0WW64fWmNUs",
    "outputId": "cfc9dc18-077d-412a-bfc3-c87af5151943"
   },
   "outputs": [
    {
     "name": "stdout",
     "output_type": "stream",
     "text": [
      "              precision    recall  f1-score   support\n",
      "\n",
      "           0       0.83      0.84      0.84      4207\n",
      "           1       0.97      0.97      0.97     24871\n",
      "           2       0.89      0.91      0.90      3513\n",
      "\n",
      "    accuracy                           0.95     32591\n",
      "   macro avg       0.90      0.91      0.90     32591\n",
      "weighted avg       0.95      0.95      0.95     32591\n",
      "\n"
     ]
    }
   ],
   "source": [
    "print(classification_report(y_test, y_pred_forest))"
   ]
  },
  {
   "cell_type": "code",
   "execution_count": null,
   "metadata": {
    "id": "Fi3mhtlWwj-e"
   },
   "outputs": [],
   "source": [
    "file_path = '/content/drive/MyDrive/forest_model.pkl'\n",
    "\n",
    "with open(file_path, 'wb') as file:\n",
    "    # Use pickle to dump the model into the file\n",
    "    pickle.dump(forest, file)"
   ]
  },
  {
   "cell_type": "markdown",
   "metadata": {
    "id": "1HVrc85YL2Rb"
   },
   "source": [
    "## NAIVE BAYES"
   ]
  },
  {
   "cell_type": "code",
   "execution_count": null,
   "metadata": {
    "colab": {
     "base_uri": "https://localhost:8080/"
    },
    "id": "QKq2ESmXY1vc",
    "outputId": "355eba5e-add3-406c-9594-b3cbbb79dea7"
   },
   "outputs": [
    {
     "name": "stdout",
     "output_type": "stream",
     "text": [
      "Accuracy on training set: 0.8910967560735852\n",
      "Accuracy on test set: 0.8665889355957166\n"
     ]
    }
   ],
   "source": [
    "nbc = MultinomialNB()\n",
    "nbc.fit(X_train_smote,y_train_smote)\n",
    "y_pred_nbc = nbc.predict(X_test_vectorized)\n",
    "\n",
    "print('Accuracy on training set:',nbc.score(X_train_smote,y_train_smote))\n",
    "print('Accuracy on test set:',nbc.score(X_test_vectorized,y_test))"
   ]
  },
  {
   "cell_type": "code",
   "execution_count": null,
   "metadata": {
    "colab": {
     "base_uri": "https://localhost:8080/"
    },
    "id": "GkgBYSDumE6Z",
    "outputId": "56a09ab3-e911-4264-dc49-7621e0741346"
   },
   "outputs": [
    {
     "name": "stdout",
     "output_type": "stream",
     "text": [
      "              precision    recall  f1-score   support\n",
      "\n",
      "           0       0.58      0.88      0.70      4207\n",
      "           1       0.97      0.89      0.93     24871\n",
      "           2       0.71      0.70      0.71      3513\n",
      "\n",
      "    accuracy                           0.87     32591\n",
      "   macro avg       0.75      0.82      0.78     32591\n",
      "weighted avg       0.89      0.87      0.87     32591\n",
      "\n"
     ]
    }
   ],
   "source": [
    "print(classification_report(y_test, y_pred_nbc))"
   ]
  },
  {
   "cell_type": "code",
   "execution_count": null,
   "metadata": {
    "id": "6UomYSYUTl1i"
   },
   "outputs": [],
   "source": []
  },
  {
   "cell_type": "code",
   "execution_count": null,
   "metadata": {
    "id": "aeGbpB29bbFD"
   },
   "outputs": [],
   "source": []
  },
  {
   "cell_type": "code",
   "execution_count": null,
   "metadata": {
    "id": "QBloUm8X0tKr"
   },
   "outputs": [],
   "source": []
  }
 ],
 "metadata": {
  "accelerator": "GPU",
  "colab": {
   "gpuType": "T4",
   "provenance": []
  },
  "kernelspec": {
   "display_name": "Python 3",
   "language": "python",
   "name": "python3"
  },
  "language_info": {
   "codemirror_mode": {
    "name": "ipython",
    "version": 3
   },
   "file_extension": ".py",
   "mimetype": "text/x-python",
   "name": "python",
   "nbconvert_exporter": "python",
   "pygments_lexer": "ipython3",
   "version": "3.8.5"
  },
  "widgets": {
   "application/vnd.jupyter.widget-state+json": {
    "02a0ce8295014dfba30e4fb9b8b6fbed": {
     "model_module": "@jupyter-widgets/controls",
     "model_module_version": "1.5.0",
     "model_name": "DescriptionStyleModel",
     "state": {
      "_model_module": "@jupyter-widgets/controls",
      "_model_module_version": "1.5.0",
      "_model_name": "DescriptionStyleModel",
      "_view_count": null,
      "_view_module": "@jupyter-widgets/base",
      "_view_module_version": "1.2.0",
      "_view_name": "StyleView",
      "description_width": ""
     }
    },
    "0342604aca444be0925733ff539a643b": {
     "model_module": "@jupyter-widgets/controls",
     "model_module_version": "1.5.0",
     "model_name": "HBoxModel",
     "state": {
      "_dom_classes": [],
      "_model_module": "@jupyter-widgets/controls",
      "_model_module_version": "1.5.0",
      "_model_name": "HBoxModel",
      "_view_count": null,
      "_view_module": "@jupyter-widgets/controls",
      "_view_module_version": "1.5.0",
      "_view_name": "HBoxView",
      "box_style": "",
      "children": [
       "IPY_MODEL_598ebe99761644ac9842c15798454f1d",
       "IPY_MODEL_eab9bf83f0bb482b8410a22e8ed58649",
       "IPY_MODEL_fe485341d254493fb55f0c4dc0ee9f04"
      ],
      "layout": "IPY_MODEL_896780312600453191581f468476bf05"
     }
    },
    "1280698dd01e4395919169cf2d0b044b": {
     "model_module": "@jupyter-widgets/controls",
     "model_module_version": "1.5.0",
     "model_name": "HTMLModel",
     "state": {
      "_dom_classes": [],
      "_model_module": "@jupyter-widgets/controls",
      "_model_module_version": "1.5.0",
      "_model_name": "HTMLModel",
      "_view_count": null,
      "_view_module": "@jupyter-widgets/controls",
      "_view_module_version": "1.5.0",
      "_view_name": "HTMLView",
      "description": "",
      "description_tooltip": null,
      "layout": "IPY_MODEL_64b0ba495b3e43849dde5a3d9edb40a0",
      "placeholder": "​",
      "style": "IPY_MODEL_9265c57c692e4d979fca39eef72b2abe",
      "value": "Downloading (…)/main/tokenizer.json: 100%"
     }
    },
    "1455dabe3139429c97e4646831b15fff": {
     "model_module": "@jupyter-widgets/base",
     "model_module_version": "1.2.0",
     "model_name": "LayoutModel",
     "state": {
      "_model_module": "@jupyter-widgets/base",
      "_model_module_version": "1.2.0",
      "_model_name": "LayoutModel",
      "_view_count": null,
      "_view_module": "@jupyter-widgets/base",
      "_view_module_version": "1.2.0",
      "_view_name": "LayoutView",
      "align_content": null,
      "align_items": null,
      "align_self": null,
      "border": null,
      "bottom": null,
      "display": null,
      "flex": null,
      "flex_flow": null,
      "grid_area": null,
      "grid_auto_columns": null,
      "grid_auto_flow": null,
      "grid_auto_rows": null,
      "grid_column": null,
      "grid_gap": null,
      "grid_row": null,
      "grid_template_areas": null,
      "grid_template_columns": null,
      "grid_template_rows": null,
      "height": null,
      "justify_content": null,
      "justify_items": null,
      "left": null,
      "margin": null,
      "max_height": null,
      "max_width": null,
      "min_height": null,
      "min_width": null,
      "object_fit": null,
      "object_position": null,
      "order": null,
      "overflow": null,
      "overflow_x": null,
      "overflow_y": null,
      "padding": null,
      "right": null,
      "top": null,
      "visibility": null,
      "width": null
     }
    },
    "154f7f813c414e3e8afc488aa2c5592e": {
     "model_module": "@jupyter-widgets/controls",
     "model_module_version": "1.5.0",
     "model_name": "DescriptionStyleModel",
     "state": {
      "_model_module": "@jupyter-widgets/controls",
      "_model_module_version": "1.5.0",
      "_model_name": "DescriptionStyleModel",
      "_view_count": null,
      "_view_module": "@jupyter-widgets/base",
      "_view_module_version": "1.2.0",
      "_view_name": "StyleView",
      "description_width": ""
     }
    },
    "17be6f1bdd9e4319a68b3e68df1bbe4f": {
     "model_module": "@jupyter-widgets/controls",
     "model_module_version": "1.5.0",
     "model_name": "HBoxModel",
     "state": {
      "_dom_classes": [],
      "_model_module": "@jupyter-widgets/controls",
      "_model_module_version": "1.5.0",
      "_model_name": "HBoxModel",
      "_view_count": null,
      "_view_module": "@jupyter-widgets/controls",
      "_view_module_version": "1.5.0",
      "_view_name": "HBoxView",
      "box_style": "",
      "children": [
       "IPY_MODEL_e89b2e1e48cd4e2180359daea84d738b",
       "IPY_MODEL_dd25f395e786401f83bc9749944effe3",
       "IPY_MODEL_6ee6b8e618874582bdf4572fa7d13feb"
      ],
      "layout": "IPY_MODEL_1455dabe3139429c97e4646831b15fff"
     }
    },
    "184c545e54034520845eb341e596592c": {
     "model_module": "@jupyter-widgets/controls",
     "model_module_version": "1.5.0",
     "model_name": "HTMLModel",
     "state": {
      "_dom_classes": [],
      "_model_module": "@jupyter-widgets/controls",
      "_model_module_version": "1.5.0",
      "_model_name": "HTMLModel",
      "_view_count": null,
      "_view_module": "@jupyter-widgets/controls",
      "_view_module_version": "1.5.0",
      "_view_name": "HTMLView",
      "description": "",
      "description_tooltip": null,
      "layout": "IPY_MODEL_3adfc6c7613b4b0d9041d93491beaf4b",
      "placeholder": "​",
      "style": "IPY_MODEL_02a0ce8295014dfba30e4fb9b8b6fbed",
      "value": "Downloading (…)okenizer_config.json: 100%"
     }
    },
    "2854c5a970c24a71be5618d97ea12c12": {
     "model_module": "@jupyter-widgets/base",
     "model_module_version": "1.2.0",
     "model_name": "LayoutModel",
     "state": {
      "_model_module": "@jupyter-widgets/base",
      "_model_module_version": "1.2.0",
      "_model_name": "LayoutModel",
      "_view_count": null,
      "_view_module": "@jupyter-widgets/base",
      "_view_module_version": "1.2.0",
      "_view_name": "LayoutView",
      "align_content": null,
      "align_items": null,
      "align_self": null,
      "border": null,
      "bottom": null,
      "display": null,
      "flex": null,
      "flex_flow": null,
      "grid_area": null,
      "grid_auto_columns": null,
      "grid_auto_flow": null,
      "grid_auto_rows": null,
      "grid_column": null,
      "grid_gap": null,
      "grid_row": null,
      "grid_template_areas": null,
      "grid_template_columns": null,
      "grid_template_rows": null,
      "height": null,
      "justify_content": null,
      "justify_items": null,
      "left": null,
      "margin": null,
      "max_height": null,
      "max_width": null,
      "min_height": null,
      "min_width": null,
      "object_fit": null,
      "object_position": null,
      "order": null,
      "overflow": null,
      "overflow_x": null,
      "overflow_y": null,
      "padding": null,
      "right": null,
      "top": null,
      "visibility": null,
      "width": null
     }
    },
    "28c3bcc7d20549d3b7233c2c6b59193e": {
     "model_module": "@jupyter-widgets/controls",
     "model_module_version": "1.5.0",
     "model_name": "HTMLModel",
     "state": {
      "_dom_classes": [],
      "_model_module": "@jupyter-widgets/controls",
      "_model_module_version": "1.5.0",
      "_model_name": "HTMLModel",
      "_view_count": null,
      "_view_module": "@jupyter-widgets/controls",
      "_view_module_version": "1.5.0",
      "_view_name": "HTMLView",
      "description": "",
      "description_tooltip": null,
      "layout": "IPY_MODEL_520bd57e1f0c4165bb13d2e1432fdb15",
      "placeholder": "​",
      "style": "IPY_MODEL_b0297c23730e4f568fef5a42244ff334",
      "value": "Downloading (…)lve/main/config.json: 100%"
     }
    },
    "2dd685947e4c4a0ebf1377f58474de0b": {
     "model_module": "@jupyter-widgets/base",
     "model_module_version": "1.2.0",
     "model_name": "LayoutModel",
     "state": {
      "_model_module": "@jupyter-widgets/base",
      "_model_module_version": "1.2.0",
      "_model_name": "LayoutModel",
      "_view_count": null,
      "_view_module": "@jupyter-widgets/base",
      "_view_module_version": "1.2.0",
      "_view_name": "LayoutView",
      "align_content": null,
      "align_items": null,
      "align_self": null,
      "border": null,
      "bottom": null,
      "display": null,
      "flex": null,
      "flex_flow": null,
      "grid_area": null,
      "grid_auto_columns": null,
      "grid_auto_flow": null,
      "grid_auto_rows": null,
      "grid_column": null,
      "grid_gap": null,
      "grid_row": null,
      "grid_template_areas": null,
      "grid_template_columns": null,
      "grid_template_rows": null,
      "height": null,
      "justify_content": null,
      "justify_items": null,
      "left": null,
      "margin": null,
      "max_height": null,
      "max_width": null,
      "min_height": null,
      "min_width": null,
      "object_fit": null,
      "object_position": null,
      "order": null,
      "overflow": null,
      "overflow_x": null,
      "overflow_y": null,
      "padding": null,
      "right": null,
      "top": null,
      "visibility": null,
      "width": null
     }
    },
    "3adfc6c7613b4b0d9041d93491beaf4b": {
     "model_module": "@jupyter-widgets/base",
     "model_module_version": "1.2.0",
     "model_name": "LayoutModel",
     "state": {
      "_model_module": "@jupyter-widgets/base",
      "_model_module_version": "1.2.0",
      "_model_name": "LayoutModel",
      "_view_count": null,
      "_view_module": "@jupyter-widgets/base",
      "_view_module_version": "1.2.0",
      "_view_name": "LayoutView",
      "align_content": null,
      "align_items": null,
      "align_self": null,
      "border": null,
      "bottom": null,
      "display": null,
      "flex": null,
      "flex_flow": null,
      "grid_area": null,
      "grid_auto_columns": null,
      "grid_auto_flow": null,
      "grid_auto_rows": null,
      "grid_column": null,
      "grid_gap": null,
      "grid_row": null,
      "grid_template_areas": null,
      "grid_template_columns": null,
      "grid_template_rows": null,
      "height": null,
      "justify_content": null,
      "justify_items": null,
      "left": null,
      "margin": null,
      "max_height": null,
      "max_width": null,
      "min_height": null,
      "min_width": null,
      "object_fit": null,
      "object_position": null,
      "order": null,
      "overflow": null,
      "overflow_x": null,
      "overflow_y": null,
      "padding": null,
      "right": null,
      "top": null,
      "visibility": null,
      "width": null
     }
    },
    "3ede6edd04374934ae8277b0f7659010": {
     "model_module": "@jupyter-widgets/controls",
     "model_module_version": "1.5.0",
     "model_name": "HBoxModel",
     "state": {
      "_dom_classes": [],
      "_model_module": "@jupyter-widgets/controls",
      "_model_module_version": "1.5.0",
      "_model_name": "HBoxModel",
      "_view_count": null,
      "_view_module": "@jupyter-widgets/controls",
      "_view_module_version": "1.5.0",
      "_view_name": "HBoxView",
      "box_style": "",
      "children": [
       "IPY_MODEL_1280698dd01e4395919169cf2d0b044b",
       "IPY_MODEL_f8ba1fdf97d44f37a67f85b518d0e943",
       "IPY_MODEL_f4546890af2247149acb41b02085986a"
      ],
      "layout": "IPY_MODEL_e0cbc660230346279edffa167d1bc11b"
     }
    },
    "3fa2377e54f24897bcc385fa7f3550e3": {
     "model_module": "@jupyter-widgets/controls",
     "model_module_version": "1.5.0",
     "model_name": "DescriptionStyleModel",
     "state": {
      "_model_module": "@jupyter-widgets/controls",
      "_model_module_version": "1.5.0",
      "_model_name": "DescriptionStyleModel",
      "_view_count": null,
      "_view_module": "@jupyter-widgets/base",
      "_view_module_version": "1.2.0",
      "_view_name": "StyleView",
      "description_width": ""
     }
    },
    "520bd57e1f0c4165bb13d2e1432fdb15": {
     "model_module": "@jupyter-widgets/base",
     "model_module_version": "1.2.0",
     "model_name": "LayoutModel",
     "state": {
      "_model_module": "@jupyter-widgets/base",
      "_model_module_version": "1.2.0",
      "_model_name": "LayoutModel",
      "_view_count": null,
      "_view_module": "@jupyter-widgets/base",
      "_view_module_version": "1.2.0",
      "_view_name": "LayoutView",
      "align_content": null,
      "align_items": null,
      "align_self": null,
      "border": null,
      "bottom": null,
      "display": null,
      "flex": null,
      "flex_flow": null,
      "grid_area": null,
      "grid_auto_columns": null,
      "grid_auto_flow": null,
      "grid_auto_rows": null,
      "grid_column": null,
      "grid_gap": null,
      "grid_row": null,
      "grid_template_areas": null,
      "grid_template_columns": null,
      "grid_template_rows": null,
      "height": null,
      "justify_content": null,
      "justify_items": null,
      "left": null,
      "margin": null,
      "max_height": null,
      "max_width": null,
      "min_height": null,
      "min_width": null,
      "object_fit": null,
      "object_position": null,
      "order": null,
      "overflow": null,
      "overflow_x": null,
      "overflow_y": null,
      "padding": null,
      "right": null,
      "top": null,
      "visibility": null,
      "width": null
     }
    },
    "5377e1f915a34e729e4f888eea40b78b": {
     "model_module": "@jupyter-widgets/controls",
     "model_module_version": "1.5.0",
     "model_name": "FloatProgressModel",
     "state": {
      "_dom_classes": [],
      "_model_module": "@jupyter-widgets/controls",
      "_model_module_version": "1.5.0",
      "_model_name": "FloatProgressModel",
      "_view_count": null,
      "_view_module": "@jupyter-widgets/controls",
      "_view_module_version": "1.5.0",
      "_view_name": "ProgressView",
      "bar_style": "success",
      "description": "",
      "description_tooltip": null,
      "layout": "IPY_MODEL_e90bf5f881e34b4cb98d9c62eb62b188",
      "max": 570,
      "min": 0,
      "orientation": "horizontal",
      "style": "IPY_MODEL_877b063c411e42529e3cee9b2ce9f578",
      "value": 570
     }
    },
    "598ebe99761644ac9842c15798454f1d": {
     "model_module": "@jupyter-widgets/controls",
     "model_module_version": "1.5.0",
     "model_name": "HTMLModel",
     "state": {
      "_dom_classes": [],
      "_model_module": "@jupyter-widgets/controls",
      "_model_module_version": "1.5.0",
      "_model_name": "HTMLModel",
      "_view_count": null,
      "_view_module": "@jupyter-widgets/controls",
      "_view_module_version": "1.5.0",
      "_view_name": "HTMLView",
      "description": "",
      "description_tooltip": null,
      "layout": "IPY_MODEL_ee333f02ca5548b19b01fba820c1f403",
      "placeholder": "​",
      "style": "IPY_MODEL_154f7f813c414e3e8afc488aa2c5592e",
      "value": "Downloading model.safetensors: 100%"
     }
    },
    "59e6f60702d347d3936dd554057819b1": {
     "model_module": "@jupyter-widgets/controls",
     "model_module_version": "1.5.0",
     "model_name": "HBoxModel",
     "state": {
      "_dom_classes": [],
      "_model_module": "@jupyter-widgets/controls",
      "_model_module_version": "1.5.0",
      "_model_name": "HBoxModel",
      "_view_count": null,
      "_view_module": "@jupyter-widgets/controls",
      "_view_module_version": "1.5.0",
      "_view_name": "HBoxView",
      "box_style": "",
      "children": [
       "IPY_MODEL_28c3bcc7d20549d3b7233c2c6b59193e",
       "IPY_MODEL_5377e1f915a34e729e4f888eea40b78b",
       "IPY_MODEL_e4132fe1c67349a28fdd70a1f1a83ef9"
      ],
      "layout": "IPY_MODEL_2854c5a970c24a71be5618d97ea12c12"
     }
    },
    "5bb86d03cc1242af9ee03ebe4a39a3dd": {
     "model_module": "@jupyter-widgets/controls",
     "model_module_version": "1.5.0",
     "model_name": "DescriptionStyleModel",
     "state": {
      "_model_module": "@jupyter-widgets/controls",
      "_model_module_version": "1.5.0",
      "_model_name": "DescriptionStyleModel",
      "_view_count": null,
      "_view_module": "@jupyter-widgets/base",
      "_view_module_version": "1.2.0",
      "_view_name": "StyleView",
      "description_width": ""
     }
    },
    "613402c1519e4cb294494fd4ac11b775": {
     "model_module": "@jupyter-widgets/controls",
     "model_module_version": "1.5.0",
     "model_name": "HBoxModel",
     "state": {
      "_dom_classes": [],
      "_model_module": "@jupyter-widgets/controls",
      "_model_module_version": "1.5.0",
      "_model_name": "HBoxModel",
      "_view_count": null,
      "_view_module": "@jupyter-widgets/controls",
      "_view_module_version": "1.5.0",
      "_view_name": "HBoxView",
      "box_style": "",
      "children": [
       "IPY_MODEL_184c545e54034520845eb341e596592c",
       "IPY_MODEL_d893724c44ae48c18195ae9bfb64bd3b",
       "IPY_MODEL_d04039fc7ffd47d780162e86a11003bc"
      ],
      "layout": "IPY_MODEL_a56d7155a01d408b999b6229c230a794"
     }
    },
    "64b0ba495b3e43849dde5a3d9edb40a0": {
     "model_module": "@jupyter-widgets/base",
     "model_module_version": "1.2.0",
     "model_name": "LayoutModel",
     "state": {
      "_model_module": "@jupyter-widgets/base",
      "_model_module_version": "1.2.0",
      "_model_name": "LayoutModel",
      "_view_count": null,
      "_view_module": "@jupyter-widgets/base",
      "_view_module_version": "1.2.0",
      "_view_name": "LayoutView",
      "align_content": null,
      "align_items": null,
      "align_self": null,
      "border": null,
      "bottom": null,
      "display": null,
      "flex": null,
      "flex_flow": null,
      "grid_area": null,
      "grid_auto_columns": null,
      "grid_auto_flow": null,
      "grid_auto_rows": null,
      "grid_column": null,
      "grid_gap": null,
      "grid_row": null,
      "grid_template_areas": null,
      "grid_template_columns": null,
      "grid_template_rows": null,
      "height": null,
      "justify_content": null,
      "justify_items": null,
      "left": null,
      "margin": null,
      "max_height": null,
      "max_width": null,
      "min_height": null,
      "min_width": null,
      "object_fit": null,
      "object_position": null,
      "order": null,
      "overflow": null,
      "overflow_x": null,
      "overflow_y": null,
      "padding": null,
      "right": null,
      "top": null,
      "visibility": null,
      "width": null
     }
    },
    "69ce0df480dc4e94a767985b1e042ca6": {
     "model_module": "@jupyter-widgets/controls",
     "model_module_version": "1.5.0",
     "model_name": "DescriptionStyleModel",
     "state": {
      "_model_module": "@jupyter-widgets/controls",
      "_model_module_version": "1.5.0",
      "_model_name": "DescriptionStyleModel",
      "_view_count": null,
      "_view_module": "@jupyter-widgets/base",
      "_view_module_version": "1.2.0",
      "_view_name": "StyleView",
      "description_width": ""
     }
    },
    "6ee6b8e618874582bdf4572fa7d13feb": {
     "model_module": "@jupyter-widgets/controls",
     "model_module_version": "1.5.0",
     "model_name": "HTMLModel",
     "state": {
      "_dom_classes": [],
      "_model_module": "@jupyter-widgets/controls",
      "_model_module_version": "1.5.0",
      "_model_name": "HTMLModel",
      "_view_count": null,
      "_view_module": "@jupyter-widgets/controls",
      "_view_module_version": "1.5.0",
      "_view_name": "HTMLView",
      "description": "",
      "description_tooltip": null,
      "layout": "IPY_MODEL_89033e2c1f2345e39084854f74dd855a",
      "placeholder": "​",
      "style": "IPY_MODEL_3fa2377e54f24897bcc385fa7f3550e3",
      "value": " 232k/232k [00:00&lt;00:00, 1.76MB/s]"
     }
    },
    "6f6acca5da124180afe780d454bf6559": {
     "model_module": "@jupyter-widgets/controls",
     "model_module_version": "1.5.0",
     "model_name": "DescriptionStyleModel",
     "state": {
      "_model_module": "@jupyter-widgets/controls",
      "_model_module_version": "1.5.0",
      "_model_name": "DescriptionStyleModel",
      "_view_count": null,
      "_view_module": "@jupyter-widgets/base",
      "_view_module_version": "1.2.0",
      "_view_name": "StyleView",
      "description_width": ""
     }
    },
    "7912a1313bc14877be2b3e3c497877f8": {
     "model_module": "@jupyter-widgets/base",
     "model_module_version": "1.2.0",
     "model_name": "LayoutModel",
     "state": {
      "_model_module": "@jupyter-widgets/base",
      "_model_module_version": "1.2.0",
      "_model_name": "LayoutModel",
      "_view_count": null,
      "_view_module": "@jupyter-widgets/base",
      "_view_module_version": "1.2.0",
      "_view_name": "LayoutView",
      "align_content": null,
      "align_items": null,
      "align_self": null,
      "border": null,
      "bottom": null,
      "display": null,
      "flex": null,
      "flex_flow": null,
      "grid_area": null,
      "grid_auto_columns": null,
      "grid_auto_flow": null,
      "grid_auto_rows": null,
      "grid_column": null,
      "grid_gap": null,
      "grid_row": null,
      "grid_template_areas": null,
      "grid_template_columns": null,
      "grid_template_rows": null,
      "height": null,
      "justify_content": null,
      "justify_items": null,
      "left": null,
      "margin": null,
      "max_height": null,
      "max_width": null,
      "min_height": null,
      "min_width": null,
      "object_fit": null,
      "object_position": null,
      "order": null,
      "overflow": null,
      "overflow_x": null,
      "overflow_y": null,
      "padding": null,
      "right": null,
      "top": null,
      "visibility": null,
      "width": null
     }
    },
    "81742e8194f449958df8d34a43600dbd": {
     "model_module": "@jupyter-widgets/base",
     "model_module_version": "1.2.0",
     "model_name": "LayoutModel",
     "state": {
      "_model_module": "@jupyter-widgets/base",
      "_model_module_version": "1.2.0",
      "_model_name": "LayoutModel",
      "_view_count": null,
      "_view_module": "@jupyter-widgets/base",
      "_view_module_version": "1.2.0",
      "_view_name": "LayoutView",
      "align_content": null,
      "align_items": null,
      "align_self": null,
      "border": null,
      "bottom": null,
      "display": null,
      "flex": null,
      "flex_flow": null,
      "grid_area": null,
      "grid_auto_columns": null,
      "grid_auto_flow": null,
      "grid_auto_rows": null,
      "grid_column": null,
      "grid_gap": null,
      "grid_row": null,
      "grid_template_areas": null,
      "grid_template_columns": null,
      "grid_template_rows": null,
      "height": null,
      "justify_content": null,
      "justify_items": null,
      "left": null,
      "margin": null,
      "max_height": null,
      "max_width": null,
      "min_height": null,
      "min_width": null,
      "object_fit": null,
      "object_position": null,
      "order": null,
      "overflow": null,
      "overflow_x": null,
      "overflow_y": null,
      "padding": null,
      "right": null,
      "top": null,
      "visibility": null,
      "width": null
     }
    },
    "877b063c411e42529e3cee9b2ce9f578": {
     "model_module": "@jupyter-widgets/controls",
     "model_module_version": "1.5.0",
     "model_name": "ProgressStyleModel",
     "state": {
      "_model_module": "@jupyter-widgets/controls",
      "_model_module_version": "1.5.0",
      "_model_name": "ProgressStyleModel",
      "_view_count": null,
      "_view_module": "@jupyter-widgets/base",
      "_view_module_version": "1.2.0",
      "_view_name": "StyleView",
      "bar_color": null,
      "description_width": ""
     }
    },
    "89033e2c1f2345e39084854f74dd855a": {
     "model_module": "@jupyter-widgets/base",
     "model_module_version": "1.2.0",
     "model_name": "LayoutModel",
     "state": {
      "_model_module": "@jupyter-widgets/base",
      "_model_module_version": "1.2.0",
      "_model_name": "LayoutModel",
      "_view_count": null,
      "_view_module": "@jupyter-widgets/base",
      "_view_module_version": "1.2.0",
      "_view_name": "LayoutView",
      "align_content": null,
      "align_items": null,
      "align_self": null,
      "border": null,
      "bottom": null,
      "display": null,
      "flex": null,
      "flex_flow": null,
      "grid_area": null,
      "grid_auto_columns": null,
      "grid_auto_flow": null,
      "grid_auto_rows": null,
      "grid_column": null,
      "grid_gap": null,
      "grid_row": null,
      "grid_template_areas": null,
      "grid_template_columns": null,
      "grid_template_rows": null,
      "height": null,
      "justify_content": null,
      "justify_items": null,
      "left": null,
      "margin": null,
      "max_height": null,
      "max_width": null,
      "min_height": null,
      "min_width": null,
      "object_fit": null,
      "object_position": null,
      "order": null,
      "overflow": null,
      "overflow_x": null,
      "overflow_y": null,
      "padding": null,
      "right": null,
      "top": null,
      "visibility": null,
      "width": null
     }
    },
    "896780312600453191581f468476bf05": {
     "model_module": "@jupyter-widgets/base",
     "model_module_version": "1.2.0",
     "model_name": "LayoutModel",
     "state": {
      "_model_module": "@jupyter-widgets/base",
      "_model_module_version": "1.2.0",
      "_model_name": "LayoutModel",
      "_view_count": null,
      "_view_module": "@jupyter-widgets/base",
      "_view_module_version": "1.2.0",
      "_view_name": "LayoutView",
      "align_content": null,
      "align_items": null,
      "align_self": null,
      "border": null,
      "bottom": null,
      "display": null,
      "flex": null,
      "flex_flow": null,
      "grid_area": null,
      "grid_auto_columns": null,
      "grid_auto_flow": null,
      "grid_auto_rows": null,
      "grid_column": null,
      "grid_gap": null,
      "grid_row": null,
      "grid_template_areas": null,
      "grid_template_columns": null,
      "grid_template_rows": null,
      "height": null,
      "justify_content": null,
      "justify_items": null,
      "left": null,
      "margin": null,
      "max_height": null,
      "max_width": null,
      "min_height": null,
      "min_width": null,
      "object_fit": null,
      "object_position": null,
      "order": null,
      "overflow": null,
      "overflow_x": null,
      "overflow_y": null,
      "padding": null,
      "right": null,
      "top": null,
      "visibility": null,
      "width": null
     }
    },
    "89df7f046a8b427a9a132e9e68cf20ab": {
     "model_module": "@jupyter-widgets/base",
     "model_module_version": "1.2.0",
     "model_name": "LayoutModel",
     "state": {
      "_model_module": "@jupyter-widgets/base",
      "_model_module_version": "1.2.0",
      "_model_name": "LayoutModel",
      "_view_count": null,
      "_view_module": "@jupyter-widgets/base",
      "_view_module_version": "1.2.0",
      "_view_name": "LayoutView",
      "align_content": null,
      "align_items": null,
      "align_self": null,
      "border": null,
      "bottom": null,
      "display": null,
      "flex": null,
      "flex_flow": null,
      "grid_area": null,
      "grid_auto_columns": null,
      "grid_auto_flow": null,
      "grid_auto_rows": null,
      "grid_column": null,
      "grid_gap": null,
      "grid_row": null,
      "grid_template_areas": null,
      "grid_template_columns": null,
      "grid_template_rows": null,
      "height": null,
      "justify_content": null,
      "justify_items": null,
      "left": null,
      "margin": null,
      "max_height": null,
      "max_width": null,
      "min_height": null,
      "min_width": null,
      "object_fit": null,
      "object_position": null,
      "order": null,
      "overflow": null,
      "overflow_x": null,
      "overflow_y": null,
      "padding": null,
      "right": null,
      "top": null,
      "visibility": null,
      "width": null
     }
    },
    "8baa4412fc5c4a67aa90e266c4a37272": {
     "model_module": "@jupyter-widgets/controls",
     "model_module_version": "1.5.0",
     "model_name": "DescriptionStyleModel",
     "state": {
      "_model_module": "@jupyter-widgets/controls",
      "_model_module_version": "1.5.0",
      "_model_name": "DescriptionStyleModel",
      "_view_count": null,
      "_view_module": "@jupyter-widgets/base",
      "_view_module_version": "1.2.0",
      "_view_name": "StyleView",
      "description_width": ""
     }
    },
    "8e2020d087b246e3bc25504639e76b89": {
     "model_module": "@jupyter-widgets/controls",
     "model_module_version": "1.5.0",
     "model_name": "DescriptionStyleModel",
     "state": {
      "_model_module": "@jupyter-widgets/controls",
      "_model_module_version": "1.5.0",
      "_model_name": "DescriptionStyleModel",
      "_view_count": null,
      "_view_module": "@jupyter-widgets/base",
      "_view_module_version": "1.2.0",
      "_view_name": "StyleView",
      "description_width": ""
     }
    },
    "9265c57c692e4d979fca39eef72b2abe": {
     "model_module": "@jupyter-widgets/controls",
     "model_module_version": "1.5.0",
     "model_name": "DescriptionStyleModel",
     "state": {
      "_model_module": "@jupyter-widgets/controls",
      "_model_module_version": "1.5.0",
      "_model_name": "DescriptionStyleModel",
      "_view_count": null,
      "_view_module": "@jupyter-widgets/base",
      "_view_module_version": "1.2.0",
      "_view_name": "StyleView",
      "description_width": ""
     }
    },
    "94ab78ef7ac74002842100d71c50064f": {
     "model_module": "@jupyter-widgets/controls",
     "model_module_version": "1.5.0",
     "model_name": "ProgressStyleModel",
     "state": {
      "_model_module": "@jupyter-widgets/controls",
      "_model_module_version": "1.5.0",
      "_model_name": "ProgressStyleModel",
      "_view_count": null,
      "_view_module": "@jupyter-widgets/base",
      "_view_module_version": "1.2.0",
      "_view_name": "StyleView",
      "bar_color": null,
      "description_width": ""
     }
    },
    "a30c707323624d648a624dd579975c34": {
     "model_module": "@jupyter-widgets/controls",
     "model_module_version": "1.5.0",
     "model_name": "ProgressStyleModel",
     "state": {
      "_model_module": "@jupyter-widgets/controls",
      "_model_module_version": "1.5.0",
      "_model_name": "ProgressStyleModel",
      "_view_count": null,
      "_view_module": "@jupyter-widgets/base",
      "_view_module_version": "1.2.0",
      "_view_name": "StyleView",
      "bar_color": null,
      "description_width": ""
     }
    },
    "a35a1ae713f14aee873b15458a856471": {
     "model_module": "@jupyter-widgets/controls",
     "model_module_version": "1.5.0",
     "model_name": "ProgressStyleModel",
     "state": {
      "_model_module": "@jupyter-widgets/controls",
      "_model_module_version": "1.5.0",
      "_model_name": "ProgressStyleModel",
      "_view_count": null,
      "_view_module": "@jupyter-widgets/base",
      "_view_module_version": "1.2.0",
      "_view_name": "StyleView",
      "bar_color": null,
      "description_width": ""
     }
    },
    "a56d7155a01d408b999b6229c230a794": {
     "model_module": "@jupyter-widgets/base",
     "model_module_version": "1.2.0",
     "model_name": "LayoutModel",
     "state": {
      "_model_module": "@jupyter-widgets/base",
      "_model_module_version": "1.2.0",
      "_model_name": "LayoutModel",
      "_view_count": null,
      "_view_module": "@jupyter-widgets/base",
      "_view_module_version": "1.2.0",
      "_view_name": "LayoutView",
      "align_content": null,
      "align_items": null,
      "align_self": null,
      "border": null,
      "bottom": null,
      "display": null,
      "flex": null,
      "flex_flow": null,
      "grid_area": null,
      "grid_auto_columns": null,
      "grid_auto_flow": null,
      "grid_auto_rows": null,
      "grid_column": null,
      "grid_gap": null,
      "grid_row": null,
      "grid_template_areas": null,
      "grid_template_columns": null,
      "grid_template_rows": null,
      "height": null,
      "justify_content": null,
      "justify_items": null,
      "left": null,
      "margin": null,
      "max_height": null,
      "max_width": null,
      "min_height": null,
      "min_width": null,
      "object_fit": null,
      "object_position": null,
      "order": null,
      "overflow": null,
      "overflow_x": null,
      "overflow_y": null,
      "padding": null,
      "right": null,
      "top": null,
      "visibility": null,
      "width": null
     }
    },
    "af0d7824830049daaa25e9e9bbd8c913": {
     "model_module": "@jupyter-widgets/base",
     "model_module_version": "1.2.0",
     "model_name": "LayoutModel",
     "state": {
      "_model_module": "@jupyter-widgets/base",
      "_model_module_version": "1.2.0",
      "_model_name": "LayoutModel",
      "_view_count": null,
      "_view_module": "@jupyter-widgets/base",
      "_view_module_version": "1.2.0",
      "_view_name": "LayoutView",
      "align_content": null,
      "align_items": null,
      "align_self": null,
      "border": null,
      "bottom": null,
      "display": null,
      "flex": null,
      "flex_flow": null,
      "grid_area": null,
      "grid_auto_columns": null,
      "grid_auto_flow": null,
      "grid_auto_rows": null,
      "grid_column": null,
      "grid_gap": null,
      "grid_row": null,
      "grid_template_areas": null,
      "grid_template_columns": null,
      "grid_template_rows": null,
      "height": null,
      "justify_content": null,
      "justify_items": null,
      "left": null,
      "margin": null,
      "max_height": null,
      "max_width": null,
      "min_height": null,
      "min_width": null,
      "object_fit": null,
      "object_position": null,
      "order": null,
      "overflow": null,
      "overflow_x": null,
      "overflow_y": null,
      "padding": null,
      "right": null,
      "top": null,
      "visibility": null,
      "width": null
     }
    },
    "afff1e8bf20c44968d03c42477cb85b5": {
     "model_module": "@jupyter-widgets/base",
     "model_module_version": "1.2.0",
     "model_name": "LayoutModel",
     "state": {
      "_model_module": "@jupyter-widgets/base",
      "_model_module_version": "1.2.0",
      "_model_name": "LayoutModel",
      "_view_count": null,
      "_view_module": "@jupyter-widgets/base",
      "_view_module_version": "1.2.0",
      "_view_name": "LayoutView",
      "align_content": null,
      "align_items": null,
      "align_self": null,
      "border": null,
      "bottom": null,
      "display": null,
      "flex": null,
      "flex_flow": null,
      "grid_area": null,
      "grid_auto_columns": null,
      "grid_auto_flow": null,
      "grid_auto_rows": null,
      "grid_column": null,
      "grid_gap": null,
      "grid_row": null,
      "grid_template_areas": null,
      "grid_template_columns": null,
      "grid_template_rows": null,
      "height": null,
      "justify_content": null,
      "justify_items": null,
      "left": null,
      "margin": null,
      "max_height": null,
      "max_width": null,
      "min_height": null,
      "min_width": null,
      "object_fit": null,
      "object_position": null,
      "order": null,
      "overflow": null,
      "overflow_x": null,
      "overflow_y": null,
      "padding": null,
      "right": null,
      "top": null,
      "visibility": null,
      "width": null
     }
    },
    "b0297c23730e4f568fef5a42244ff334": {
     "model_module": "@jupyter-widgets/controls",
     "model_module_version": "1.5.0",
     "model_name": "DescriptionStyleModel",
     "state": {
      "_model_module": "@jupyter-widgets/controls",
      "_model_module_version": "1.5.0",
      "_model_name": "DescriptionStyleModel",
      "_view_count": null,
      "_view_module": "@jupyter-widgets/base",
      "_view_module_version": "1.2.0",
      "_view_name": "StyleView",
      "description_width": ""
     }
    },
    "ba0e81e16e4c495a878b1a592d2b0b19": {
     "model_module": "@jupyter-widgets/base",
     "model_module_version": "1.2.0",
     "model_name": "LayoutModel",
     "state": {
      "_model_module": "@jupyter-widgets/base",
      "_model_module_version": "1.2.0",
      "_model_name": "LayoutModel",
      "_view_count": null,
      "_view_module": "@jupyter-widgets/base",
      "_view_module_version": "1.2.0",
      "_view_name": "LayoutView",
      "align_content": null,
      "align_items": null,
      "align_self": null,
      "border": null,
      "bottom": null,
      "display": null,
      "flex": null,
      "flex_flow": null,
      "grid_area": null,
      "grid_auto_columns": null,
      "grid_auto_flow": null,
      "grid_auto_rows": null,
      "grid_column": null,
      "grid_gap": null,
      "grid_row": null,
      "grid_template_areas": null,
      "grid_template_columns": null,
      "grid_template_rows": null,
      "height": null,
      "justify_content": null,
      "justify_items": null,
      "left": null,
      "margin": null,
      "max_height": null,
      "max_width": null,
      "min_height": null,
      "min_width": null,
      "object_fit": null,
      "object_position": null,
      "order": null,
      "overflow": null,
      "overflow_x": null,
      "overflow_y": null,
      "padding": null,
      "right": null,
      "top": null,
      "visibility": null,
      "width": null
     }
    },
    "d04039fc7ffd47d780162e86a11003bc": {
     "model_module": "@jupyter-widgets/controls",
     "model_module_version": "1.5.0",
     "model_name": "HTMLModel",
     "state": {
      "_dom_classes": [],
      "_model_module": "@jupyter-widgets/controls",
      "_model_module_version": "1.5.0",
      "_model_name": "HTMLModel",
      "_view_count": null,
      "_view_module": "@jupyter-widgets/controls",
      "_view_module_version": "1.5.0",
      "_view_name": "HTMLView",
      "description": "",
      "description_tooltip": null,
      "layout": "IPY_MODEL_ba0e81e16e4c495a878b1a592d2b0b19",
      "placeholder": "​",
      "style": "IPY_MODEL_6f6acca5da124180afe780d454bf6559",
      "value": " 28.0/28.0 [00:00&lt;00:00, 857B/s]"
     }
    },
    "d3b47be5a5cb4f6386e9cec45e702541": {
     "model_module": "@jupyter-widgets/base",
     "model_module_version": "1.2.0",
     "model_name": "LayoutModel",
     "state": {
      "_model_module": "@jupyter-widgets/base",
      "_model_module_version": "1.2.0",
      "_model_name": "LayoutModel",
      "_view_count": null,
      "_view_module": "@jupyter-widgets/base",
      "_view_module_version": "1.2.0",
      "_view_name": "LayoutView",
      "align_content": null,
      "align_items": null,
      "align_self": null,
      "border": null,
      "bottom": null,
      "display": null,
      "flex": null,
      "flex_flow": null,
      "grid_area": null,
      "grid_auto_columns": null,
      "grid_auto_flow": null,
      "grid_auto_rows": null,
      "grid_column": null,
      "grid_gap": null,
      "grid_row": null,
      "grid_template_areas": null,
      "grid_template_columns": null,
      "grid_template_rows": null,
      "height": null,
      "justify_content": null,
      "justify_items": null,
      "left": null,
      "margin": null,
      "max_height": null,
      "max_width": null,
      "min_height": null,
      "min_width": null,
      "object_fit": null,
      "object_position": null,
      "order": null,
      "overflow": null,
      "overflow_x": null,
      "overflow_y": null,
      "padding": null,
      "right": null,
      "top": null,
      "visibility": null,
      "width": null
     }
    },
    "d59c0299b5ee4e8c8d506eac43cd4ee0": {
     "model_module": "@jupyter-widgets/controls",
     "model_module_version": "1.5.0",
     "model_name": "ProgressStyleModel",
     "state": {
      "_model_module": "@jupyter-widgets/controls",
      "_model_module_version": "1.5.0",
      "_model_name": "ProgressStyleModel",
      "_view_count": null,
      "_view_module": "@jupyter-widgets/base",
      "_view_module_version": "1.2.0",
      "_view_name": "StyleView",
      "bar_color": null,
      "description_width": ""
     }
    },
    "d893724c44ae48c18195ae9bfb64bd3b": {
     "model_module": "@jupyter-widgets/controls",
     "model_module_version": "1.5.0",
     "model_name": "FloatProgressModel",
     "state": {
      "_dom_classes": [],
      "_model_module": "@jupyter-widgets/controls",
      "_model_module_version": "1.5.0",
      "_model_name": "FloatProgressModel",
      "_view_count": null,
      "_view_module": "@jupyter-widgets/controls",
      "_view_module_version": "1.5.0",
      "_view_name": "ProgressView",
      "bar_style": "success",
      "description": "",
      "description_tooltip": null,
      "layout": "IPY_MODEL_81742e8194f449958df8d34a43600dbd",
      "max": 28,
      "min": 0,
      "orientation": "horizontal",
      "style": "IPY_MODEL_a35a1ae713f14aee873b15458a856471",
      "value": 28
     }
    },
    "dd25f395e786401f83bc9749944effe3": {
     "model_module": "@jupyter-widgets/controls",
     "model_module_version": "1.5.0",
     "model_name": "FloatProgressModel",
     "state": {
      "_dom_classes": [],
      "_model_module": "@jupyter-widgets/controls",
      "_model_module_version": "1.5.0",
      "_model_name": "FloatProgressModel",
      "_view_count": null,
      "_view_module": "@jupyter-widgets/controls",
      "_view_module_version": "1.5.0",
      "_view_name": "ProgressView",
      "bar_style": "success",
      "description": "",
      "description_tooltip": null,
      "layout": "IPY_MODEL_afff1e8bf20c44968d03c42477cb85b5",
      "max": 231508,
      "min": 0,
      "orientation": "horizontal",
      "style": "IPY_MODEL_d59c0299b5ee4e8c8d506eac43cd4ee0",
      "value": 231508
     }
    },
    "dee6389f617b4a25a1fd1d2ddc0e4dbf": {
     "model_module": "@jupyter-widgets/base",
     "model_module_version": "1.2.0",
     "model_name": "LayoutModel",
     "state": {
      "_model_module": "@jupyter-widgets/base",
      "_model_module_version": "1.2.0",
      "_model_name": "LayoutModel",
      "_view_count": null,
      "_view_module": "@jupyter-widgets/base",
      "_view_module_version": "1.2.0",
      "_view_name": "LayoutView",
      "align_content": null,
      "align_items": null,
      "align_self": null,
      "border": null,
      "bottom": null,
      "display": null,
      "flex": null,
      "flex_flow": null,
      "grid_area": null,
      "grid_auto_columns": null,
      "grid_auto_flow": null,
      "grid_auto_rows": null,
      "grid_column": null,
      "grid_gap": null,
      "grid_row": null,
      "grid_template_areas": null,
      "grid_template_columns": null,
      "grid_template_rows": null,
      "height": null,
      "justify_content": null,
      "justify_items": null,
      "left": null,
      "margin": null,
      "max_height": null,
      "max_width": null,
      "min_height": null,
      "min_width": null,
      "object_fit": null,
      "object_position": null,
      "order": null,
      "overflow": null,
      "overflow_x": null,
      "overflow_y": null,
      "padding": null,
      "right": null,
      "top": null,
      "visibility": null,
      "width": null
     }
    },
    "e0cbc660230346279edffa167d1bc11b": {
     "model_module": "@jupyter-widgets/base",
     "model_module_version": "1.2.0",
     "model_name": "LayoutModel",
     "state": {
      "_model_module": "@jupyter-widgets/base",
      "_model_module_version": "1.2.0",
      "_model_name": "LayoutModel",
      "_view_count": null,
      "_view_module": "@jupyter-widgets/base",
      "_view_module_version": "1.2.0",
      "_view_name": "LayoutView",
      "align_content": null,
      "align_items": null,
      "align_self": null,
      "border": null,
      "bottom": null,
      "display": null,
      "flex": null,
      "flex_flow": null,
      "grid_area": null,
      "grid_auto_columns": null,
      "grid_auto_flow": null,
      "grid_auto_rows": null,
      "grid_column": null,
      "grid_gap": null,
      "grid_row": null,
      "grid_template_areas": null,
      "grid_template_columns": null,
      "grid_template_rows": null,
      "height": null,
      "justify_content": null,
      "justify_items": null,
      "left": null,
      "margin": null,
      "max_height": null,
      "max_width": null,
      "min_height": null,
      "min_width": null,
      "object_fit": null,
      "object_position": null,
      "order": null,
      "overflow": null,
      "overflow_x": null,
      "overflow_y": null,
      "padding": null,
      "right": null,
      "top": null,
      "visibility": null,
      "width": null
     }
    },
    "e4132fe1c67349a28fdd70a1f1a83ef9": {
     "model_module": "@jupyter-widgets/controls",
     "model_module_version": "1.5.0",
     "model_name": "HTMLModel",
     "state": {
      "_dom_classes": [],
      "_model_module": "@jupyter-widgets/controls",
      "_model_module_version": "1.5.0",
      "_model_name": "HTMLModel",
      "_view_count": null,
      "_view_module": "@jupyter-widgets/controls",
      "_view_module_version": "1.5.0",
      "_view_name": "HTMLView",
      "description": "",
      "description_tooltip": null,
      "layout": "IPY_MODEL_89df7f046a8b427a9a132e9e68cf20ab",
      "placeholder": "​",
      "style": "IPY_MODEL_5bb86d03cc1242af9ee03ebe4a39a3dd",
      "value": " 570/570 [00:00&lt;00:00, 15.0kB/s]"
     }
    },
    "e89b2e1e48cd4e2180359daea84d738b": {
     "model_module": "@jupyter-widgets/controls",
     "model_module_version": "1.5.0",
     "model_name": "HTMLModel",
     "state": {
      "_dom_classes": [],
      "_model_module": "@jupyter-widgets/controls",
      "_model_module_version": "1.5.0",
      "_model_name": "HTMLModel",
      "_view_count": null,
      "_view_module": "@jupyter-widgets/controls",
      "_view_module_version": "1.5.0",
      "_view_name": "HTMLView",
      "description": "",
      "description_tooltip": null,
      "layout": "IPY_MODEL_2dd685947e4c4a0ebf1377f58474de0b",
      "placeholder": "​",
      "style": "IPY_MODEL_8baa4412fc5c4a67aa90e266c4a37272",
      "value": "Downloading (…)solve/main/vocab.txt: 100%"
     }
    },
    "e90bf5f881e34b4cb98d9c62eb62b188": {
     "model_module": "@jupyter-widgets/base",
     "model_module_version": "1.2.0",
     "model_name": "LayoutModel",
     "state": {
      "_model_module": "@jupyter-widgets/base",
      "_model_module_version": "1.2.0",
      "_model_name": "LayoutModel",
      "_view_count": null,
      "_view_module": "@jupyter-widgets/base",
      "_view_module_version": "1.2.0",
      "_view_name": "LayoutView",
      "align_content": null,
      "align_items": null,
      "align_self": null,
      "border": null,
      "bottom": null,
      "display": null,
      "flex": null,
      "flex_flow": null,
      "grid_area": null,
      "grid_auto_columns": null,
      "grid_auto_flow": null,
      "grid_auto_rows": null,
      "grid_column": null,
      "grid_gap": null,
      "grid_row": null,
      "grid_template_areas": null,
      "grid_template_columns": null,
      "grid_template_rows": null,
      "height": null,
      "justify_content": null,
      "justify_items": null,
      "left": null,
      "margin": null,
      "max_height": null,
      "max_width": null,
      "min_height": null,
      "min_width": null,
      "object_fit": null,
      "object_position": null,
      "order": null,
      "overflow": null,
      "overflow_x": null,
      "overflow_y": null,
      "padding": null,
      "right": null,
      "top": null,
      "visibility": null,
      "width": null
     }
    },
    "eab9bf83f0bb482b8410a22e8ed58649": {
     "model_module": "@jupyter-widgets/controls",
     "model_module_version": "1.5.0",
     "model_name": "FloatProgressModel",
     "state": {
      "_dom_classes": [],
      "_model_module": "@jupyter-widgets/controls",
      "_model_module_version": "1.5.0",
      "_model_name": "FloatProgressModel",
      "_view_count": null,
      "_view_module": "@jupyter-widgets/controls",
      "_view_module_version": "1.5.0",
      "_view_name": "ProgressView",
      "bar_style": "success",
      "description": "",
      "description_tooltip": null,
      "layout": "IPY_MODEL_af0d7824830049daaa25e9e9bbd8c913",
      "max": 440449768,
      "min": 0,
      "orientation": "horizontal",
      "style": "IPY_MODEL_a30c707323624d648a624dd579975c34",
      "value": 440449768
     }
    },
    "ee333f02ca5548b19b01fba820c1f403": {
     "model_module": "@jupyter-widgets/base",
     "model_module_version": "1.2.0",
     "model_name": "LayoutModel",
     "state": {
      "_model_module": "@jupyter-widgets/base",
      "_model_module_version": "1.2.0",
      "_model_name": "LayoutModel",
      "_view_count": null,
      "_view_module": "@jupyter-widgets/base",
      "_view_module_version": "1.2.0",
      "_view_name": "LayoutView",
      "align_content": null,
      "align_items": null,
      "align_self": null,
      "border": null,
      "bottom": null,
      "display": null,
      "flex": null,
      "flex_flow": null,
      "grid_area": null,
      "grid_auto_columns": null,
      "grid_auto_flow": null,
      "grid_auto_rows": null,
      "grid_column": null,
      "grid_gap": null,
      "grid_row": null,
      "grid_template_areas": null,
      "grid_template_columns": null,
      "grid_template_rows": null,
      "height": null,
      "justify_content": null,
      "justify_items": null,
      "left": null,
      "margin": null,
      "max_height": null,
      "max_width": null,
      "min_height": null,
      "min_width": null,
      "object_fit": null,
      "object_position": null,
      "order": null,
      "overflow": null,
      "overflow_x": null,
      "overflow_y": null,
      "padding": null,
      "right": null,
      "top": null,
      "visibility": null,
      "width": null
     }
    },
    "f4546890af2247149acb41b02085986a": {
     "model_module": "@jupyter-widgets/controls",
     "model_module_version": "1.5.0",
     "model_name": "HTMLModel",
     "state": {
      "_dom_classes": [],
      "_model_module": "@jupyter-widgets/controls",
      "_model_module_version": "1.5.0",
      "_model_name": "HTMLModel",
      "_view_count": null,
      "_view_module": "@jupyter-widgets/controls",
      "_view_module_version": "1.5.0",
      "_view_name": "HTMLView",
      "description": "",
      "description_tooltip": null,
      "layout": "IPY_MODEL_d3b47be5a5cb4f6386e9cec45e702541",
      "placeholder": "​",
      "style": "IPY_MODEL_69ce0df480dc4e94a767985b1e042ca6",
      "value": " 466k/466k [00:00&lt;00:00, 3.54MB/s]"
     }
    },
    "f8ba1fdf97d44f37a67f85b518d0e943": {
     "model_module": "@jupyter-widgets/controls",
     "model_module_version": "1.5.0",
     "model_name": "FloatProgressModel",
     "state": {
      "_dom_classes": [],
      "_model_module": "@jupyter-widgets/controls",
      "_model_module_version": "1.5.0",
      "_model_name": "FloatProgressModel",
      "_view_count": null,
      "_view_module": "@jupyter-widgets/controls",
      "_view_module_version": "1.5.0",
      "_view_name": "ProgressView",
      "bar_style": "success",
      "description": "",
      "description_tooltip": null,
      "layout": "IPY_MODEL_dee6389f617b4a25a1fd1d2ddc0e4dbf",
      "max": 466062,
      "min": 0,
      "orientation": "horizontal",
      "style": "IPY_MODEL_94ab78ef7ac74002842100d71c50064f",
      "value": 466062
     }
    },
    "fe485341d254493fb55f0c4dc0ee9f04": {
     "model_module": "@jupyter-widgets/controls",
     "model_module_version": "1.5.0",
     "model_name": "HTMLModel",
     "state": {
      "_dom_classes": [],
      "_model_module": "@jupyter-widgets/controls",
      "_model_module_version": "1.5.0",
      "_model_name": "HTMLModel",
      "_view_count": null,
      "_view_module": "@jupyter-widgets/controls",
      "_view_module_version": "1.5.0",
      "_view_name": "HTMLView",
      "description": "",
      "description_tooltip": null,
      "layout": "IPY_MODEL_7912a1313bc14877be2b3e3c497877f8",
      "placeholder": "​",
      "style": "IPY_MODEL_8e2020d087b246e3bc25504639e76b89",
      "value": " 440M/440M [00:01&lt;00:00, 272MB/s]"
     }
    }
   }
  }
 },
 "nbformat": 4,
 "nbformat_minor": 1
}
